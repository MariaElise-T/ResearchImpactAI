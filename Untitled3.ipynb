{
 "cells": [
  {
   "cell_type": "code",
   "execution_count": 44,
   "id": "c8ffa24d-a15f-404c-96a0-e3c646ceb71d",
   "metadata": {},
   "outputs": [],
   "source": [
    "import pandas as pd\n",
    "import numpy as np\n",
    "import requests\n",
    "import json\n",
    "import datetime\n",
    "import pybliometrics\n",
    "from pybliometrics.scopus import PlumXMetrics"
   ]
  },
  {
   "cell_type": "code",
   "execution_count": 45,
   "id": "2222bb8d-60bc-4ba0-8982-227a1cc15520",
   "metadata": {},
   "outputs": [],
   "source": [
    "doi = '10.3390/nu14081608'"
   ]
  },
  {
   "cell_type": "code",
   "execution_count": null,
   "id": "444f3065-0e8f-4dbc-9374-d3c63c5cee4e",
   "metadata": {},
   "outputs": [],
   "source": [
    "pd.read_csv"
   ]
  },
  {
   "cell_type": "markdown",
   "id": "8115273f-0bad-4703-a999-d264860211b6",
   "metadata": {},
   "source": [
    "# PlumX data collection"
   ]
  },
  {
   "cell_type": "code",
   "execution_count": 46,
   "id": "1f561bcb-415c-4a27-a21d-6f87f70c3f00",
   "metadata": {},
   "outputs": [],
   "source": [
    "pybliometrics.scopus.init()"
   ]
  },
  {
   "cell_type": "code",
   "execution_count": 47,
   "id": "98d841eb-bfe9-461e-bf1b-fddf10d4ef18",
   "metadata": {},
   "outputs": [],
   "source": [
    "plum = PlumXMetrics(doi, id_type='doi')\n",
    "dict_plummetrics[doi] = plum"
   ]
  },
  {
   "cell_type": "code",
   "execution_count": 48,
   "id": "b5b0fe41-2d5d-4938-a759-bf3bc736fc81",
   "metadata": {},
   "outputs": [],
   "source": [
    "plumx_json_list = list()\n",
    "i=0\n",
    "for item in dict_plummetrics:\n",
    "    plumx_json = {}\n",
    "    i+=1\n",
    "    plumx_json['doi'] = str(item)\n",
    "    # Parse capture info\n",
    "    capture_info = {}\n",
    "    if(dict_plummetrics[str(item)].capture is not None):\n",
    "        for capture_item in dict_plummetrics[str(item)].capture:\n",
    "            measure_name = capture_item.name\n",
    "            measure_count = capture_item.total\n",
    "            capture_info[measure_name]=measure_count\n",
    "    plumx_json['capture'] = capture_info\n",
    "    # Parse citation info\n",
    "    citation_info = {}\n",
    "    if(dict_plummetrics[str(item)].citation is not None):\n",
    "        for citation_item in dict_plummetrics[str(item)].citation:\n",
    "            measure_name = citation_item.name\n",
    "            measure_count = citation_item.total\n",
    "            citation_info[measure_name]=measure_count\n",
    "    plumx_json['citation'] = citation_info\n",
    "    # Parse mention info\n",
    "    mention_info = {}\n",
    "    if(dict_plummetrics[str(item)].mention is not None):\n",
    "        for mention_item in dict_plummetrics[str(item)].mention:\n",
    "            measure_name = mention_item.name\n",
    "            measure_count = mention_item.total\n",
    "            mention_info[measure_name]=measure_count\n",
    "    plumx_json['mention'] =  mention_info\n",
    "    # Parse social media info\n",
    "    SM_info = {}\n",
    "    if(dict_plummetrics[str(item)].social_media is not None):\n",
    "        for SM_item in dict_plummetrics[str(item)].social_media:\n",
    "            measure_name = SM_item.name\n",
    "            measure_count = SM_item.total\n",
    "            mention_info[measure_name]=measure_count\n",
    "    plumx_json['social_media'] = SM_info\n",
    "    # Parse usage info\n",
    "    usage_info = {}\n",
    "    if(dict_plummetrics[str(item)].usage is not None):\n",
    "        for usage_item in dict_plummetrics[str(item)].usage:\n",
    "            measure_name = usage_item.name\n",
    "            measure_count = usage_item.total\n",
    "            mention_info[measure_name]=measure_count\n",
    "    plumx_json['usage'] = usage_info\n",
    "    plumx_json_list.append(plumx_json)"
   ]
  },
  {
   "cell_type": "code",
   "execution_count": 49,
   "id": "ed0522d0-1c17-4d59-908a-21a164d69554",
   "metadata": {},
   "outputs": [],
   "source": [
    "plumx =  pd.json_normalize(plumx_json)"
   ]
  },
  {
   "cell_type": "code",
   "execution_count": 50,
   "id": "819c150e-8877-44c0-9cee-5093cacd5822",
   "metadata": {},
   "outputs": [],
   "source": [
    "plumx = plumx.add_suffix('_plumx')\n",
    "plumx = plumx.fillna(0)\n",
    "plumx = plumx.drop_duplicates(subset=['doi_plumx'], keep='first')"
   ]
  },
  {
   "cell_type": "markdown",
   "id": "c29187e2-f4e5-4d17-925c-bd7eb7c3d4f8",
   "metadata": {},
   "source": [
    "# Altmetrics Data Collection"
   ]
  },
  {
   "cell_type": "code",
   "execution_count": 51,
   "id": "36720ca8-7383-44c5-be7a-4cbd598d6630",
   "metadata": {},
   "outputs": [],
   "source": [
    "json_altmetrics = list()\n",
    "for doi in [doi]:\n",
    "    altmetric_url = 'https://api.altmetric.com/v1/doi/'+str(doi)\n",
    "    response = requests.get(altmetric_url)\n",
    "    if(response.status_code==200):\n",
    "        json_altmetrics.append(response.content)"
   ]
  },
  {
   "cell_type": "code",
   "execution_count": 52,
   "id": "827c8680-f5dc-45d6-8d5f-109cd6689500",
   "metadata": {},
   "outputs": [
    {
     "name": "stdout",
     "output_type": "stream",
     "text": [
      "Error count:  0\n"
     ]
    }
   ],
   "source": [
    "error_count = 0\n",
    "text = json_altmetrics[0].decode(\"utf-8\")\n",
    "try:\n",
    "    item_dict = json.loads(text)\n",
    "    altmetrics =  pd.json_normalize(item_dict)\n",
    "except:\n",
    "    error_count +=1\n",
    "print(\"Error count: \", error_count)"
   ]
  },
  {
   "cell_type": "code",
   "execution_count": 53,
   "id": "84d8485c-16f4-4d67-a9f5-1f34e8b8c30c",
   "metadata": {},
   "outputs": [],
   "source": [
    "altmetrics = altmetrics.add_suffix('_altmetrics')"
   ]
  },
  {
   "cell_type": "code",
   "execution_count": 54,
   "id": "79e57422-b820-4432-9f20-12315c477763",
   "metadata": {},
   "outputs": [],
   "source": [
    "# drop columns that are either already present in Crossref or are used for identificatoin only, except DOI which is used to merge\n",
    "altmetrics_drops = ['title_altmetrics', 'isbns_altmetrics', 'altmetric_jid_altmetrics', 'issns_altmetrics', 'journal_altmetrics', 'authors_altmetrics', \n",
    "                   'type_altmetrics', 'pubdate_altmetrics', 'epubdate_altmetrics', 'dimensions_publication_id_altmetrics', 'altmetric_id_altmetrics',\n",
    "                   'last_updated_altmetrics', 'added_on_altmetrics', 'published_on_altmetrics', 'images.small_altmetrics', 'images.medium_altmetrics',\n",
    "                    'images.large_altmetrics', 'pmid_altmetrics', 'abstract_altmetrics', 'abstract_source_altmetrics', 'ads_id_altmetrics', 'uri_altmetrics',\n",
    "                    'pmc_altmetrics', 'arxiv_id_altmetrics', 'hlom_id_altmetrics', 'hollis_id_altmetrics'] \n",
    "retrieved_cols = altmetrics.columns\n",
    "altmetrics = altmetrics.drop(list(set(altmetrics_drops) & set(retrieved_cols)), axis=1)"
   ]
  },
  {
   "cell_type": "code",
   "execution_count": 55,
   "id": "e8b18bfc-0ddb-4709-af6d-f41a6712564c",
   "metadata": {},
   "outputs": [],
   "source": [
    "# Dropping these for now, but may include in a future version\n",
    "altmetrics_maybes = ['cohorts_altmetrics', 'handles_altmetrics', 'schema_altmetrics', 'is_oa_altmetrics', 'cohorts.pub_altmetrics', 'cohorts.sci_altmetrics',\n",
    "'cohorts.doc_altmetrics', 'handle_altmetrics', 'editors_altmetrics', 'ordinal_number_altmetrics', 'authors_or_editors_altmetrics', 'attribution_altmetrics']\n",
    "altmetrics = altmetrics.drop(list(set(altmetrics_maybes) & set(retrieved_cols)), axis=1)"
   ]
  },
  {
   "cell_type": "markdown",
   "id": "0aa84341-af1b-4e88-a837-a4457b4510e3",
   "metadata": {},
   "source": [
    "# Combine sources"
   ]
  },
  {
   "cell_type": "code",
   "execution_count": 58,
   "id": "eb5f55e3-ab5f-469e-b7e0-7f31cf73c71f",
   "metadata": {},
   "outputs": [],
   "source": [
    "combo = pd.concat([plumx, altmetrics], axis=1)"
   ]
  },
  {
   "cell_type": "code",
   "execution_count": 59,
   "id": "7e5c7377-f83e-4b13-9948-feab36716fa1",
   "metadata": {},
   "outputs": [
    {
     "data": {
      "text/html": [
       "<div>\n",
       "<style scoped>\n",
       "    .dataframe tbody tr th:only-of-type {\n",
       "        vertical-align: middle;\n",
       "    }\n",
       "\n",
       "    .dataframe tbody tr th {\n",
       "        vertical-align: top;\n",
       "    }\n",
       "\n",
       "    .dataframe thead th {\n",
       "        text-align: right;\n",
       "    }\n",
       "</style>\n",
       "<table border=\"1\" class=\"dataframe\">\n",
       "  <thead>\n",
       "    <tr style=\"text-align: right;\">\n",
       "      <th></th>\n",
       "      <th>doi_plumx</th>\n",
       "      <th>capture.READER_COUNT_plumx</th>\n",
       "      <th>citation.CrossRef_plumx</th>\n",
       "      <th>citation.Scopus_plumx</th>\n",
       "      <th>citation.PubMed_plumx</th>\n",
       "      <th>mention.ALL_BLOG_COUNT_plumx</th>\n",
       "      <th>mention.FACEBOOK_COUNT_plumx</th>\n",
       "      <th>doi_altmetrics</th>\n",
       "      <th>publisher_subjects_altmetrics</th>\n",
       "      <th>cited_by_posts_count_altmetrics</th>\n",
       "      <th>...</th>\n",
       "      <th>history.6d_altmetrics</th>\n",
       "      <th>history.5d_altmetrics</th>\n",
       "      <th>history.4d_altmetrics</th>\n",
       "      <th>history.3d_altmetrics</th>\n",
       "      <th>history.2d_altmetrics</th>\n",
       "      <th>history.1d_altmetrics</th>\n",
       "      <th>history.at_altmetrics</th>\n",
       "      <th>readers.citeulike_altmetrics</th>\n",
       "      <th>readers.mendeley_altmetrics</th>\n",
       "      <th>readers.connotea_altmetrics</th>\n",
       "    </tr>\n",
       "  </thead>\n",
       "  <tbody>\n",
       "    <tr>\n",
       "      <th>0</th>\n",
       "      <td>10.3390/nu14081608</td>\n",
       "      <td>27</td>\n",
       "      <td>6</td>\n",
       "      <td>5</td>\n",
       "      <td>4</td>\n",
       "      <td>1</td>\n",
       "      <td>37</td>\n",
       "      <td>10.3390/nu14081608</td>\n",
       "      <td>[{'name': 'Nutrition And Dietetics', 'scheme':...</td>\n",
       "      <td>3</td>\n",
       "      <td>...</td>\n",
       "      <td>0</td>\n",
       "      <td>0</td>\n",
       "      <td>0</td>\n",
       "      <td>0</td>\n",
       "      <td>0</td>\n",
       "      <td>0</td>\n",
       "      <td>1.75</td>\n",
       "      <td>0</td>\n",
       "      <td>27</td>\n",
       "      <td>0</td>\n",
       "    </tr>\n",
       "  </tbody>\n",
       "</table>\n",
       "<p>1 rows × 52 columns</p>\n",
       "</div>"
      ],
      "text/plain": [
       "            doi_plumx  capture.READER_COUNT_plumx  citation.CrossRef_plumx  \\\n",
       "0  10.3390/nu14081608                          27                        6   \n",
       "\n",
       "   citation.Scopus_plumx  citation.PubMed_plumx  mention.ALL_BLOG_COUNT_plumx  \\\n",
       "0                      5                      4                             1   \n",
       "\n",
       "   mention.FACEBOOK_COUNT_plumx      doi_altmetrics  \\\n",
       "0                            37  10.3390/nu14081608   \n",
       "\n",
       "                       publisher_subjects_altmetrics  \\\n",
       "0  [{'name': 'Nutrition And Dietetics', 'scheme':...   \n",
       "\n",
       "   cited_by_posts_count_altmetrics  ...  history.6d_altmetrics  \\\n",
       "0                                3  ...                      0   \n",
       "\n",
       "   history.5d_altmetrics  history.4d_altmetrics  history.3d_altmetrics  \\\n",
       "0                      0                      0                      0   \n",
       "\n",
       "  history.2d_altmetrics  history.1d_altmetrics history.at_altmetrics  \\\n",
       "0                     0                      0                  1.75   \n",
       "\n",
       "   readers.citeulike_altmetrics  readers.mendeley_altmetrics  \\\n",
       "0                             0                           27   \n",
       "\n",
       "   readers.connotea_altmetrics  \n",
       "0                            0  \n",
       "\n",
       "[1 rows x 52 columns]"
      ]
     },
     "execution_count": 59,
     "metadata": {},
     "output_type": "execute_result"
    }
   ],
   "source": [
    "combo"
   ]
  },
  {
   "cell_type": "code",
   "execution_count": null,
   "id": "32c2422b-d79d-4096-940b-4d44b76e98d1",
   "metadata": {},
   "outputs": [],
   "source": []
  }
 ],
 "metadata": {
  "kernelspec": {
   "display_name": "Python 3 (ipykernel)",
   "language": "python",
   "name": "python3"
  },
  "language_info": {
   "codemirror_mode": {
    "name": "ipython",
    "version": 3
   },
   "file_extension": ".py",
   "mimetype": "text/x-python",
   "name": "python",
   "nbconvert_exporter": "python",
   "pygments_lexer": "ipython3",
   "version": "3.11.5"
  }
 },
 "nbformat": 4,
 "nbformat_minor": 5
}
