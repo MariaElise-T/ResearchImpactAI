{
 "cells": [
  {
   "cell_type": "code",
   "execution_count": 1,
   "id": "5ce6f4ee-9272-4519-9b51-ef5af3b9e77e",
   "metadata": {},
   "outputs": [
    {
     "name": "stderr",
     "output_type": "stream",
     "text": [
      "C:\\Users\\met48\\AppData\\Local\\Temp\\ipykernel_21476\\699654394.py:1: DeprecationWarning: \n",
      "Pyarrow will become a required dependency of pandas in the next major release of pandas (pandas 3.0),\n",
      "(to allow more performant data types, such as the Arrow string type, and better interoperability with other libraries)\n",
      "but was not found to be installed on your system.\n",
      "If this would cause problems for you,\n",
      "please provide us feedback at https://github.com/pandas-dev/pandas/issues/54466\n",
      "        \n",
      "  import pandas as pd\n"
     ]
    }
   ],
   "source": [
    "import pandas as pd\n",
    "import seaborn as sns\n",
    "import math\n",
    "import numpy as np\n",
    "pd.options.mode.chained_assignment = None"
   ]
  },
  {
   "cell_type": "code",
   "execution_count": 2,
   "id": "36e3f1ef-9041-4484-896e-1cd891ea123c",
   "metadata": {},
   "outputs": [],
   "source": [
    "merge = pd.read_csv('allsources_percentiles.csv')"
   ]
  },
  {
   "cell_type": "code",
   "execution_count": 3,
   "id": "3adeb5bb-03b1-491c-8089-232806b856ef",
   "metadata": {},
   "outputs": [
    {
     "name": "stdout",
     "output_type": "stream",
     "text": [
      "<class 'pandas.core.frame.DataFrame'>\n",
      "RangeIndex: 25007 entries, 0 to 25006\n",
      "Data columns (total 37 columns):\n",
      " #   Column                                                 Non-Null Count  Dtype  \n",
      "---  ------                                                 --------------  -----  \n",
      " 0   Authors                                                25007 non-null  object \n",
      " 1   Title                                                  25007 non-null  object \n",
      " 2   Year                                                   25007 non-null  int64  \n",
      " 3   Source                                                 25007 non-null  object \n",
      " 4   ArticleURL                                             25007 non-null  object \n",
      " 5   DOI                                                    25007 non-null  object \n",
      " 6   Cites                                                  25007 non-null  float64\n",
      " 7   capture.READER_COUNT_plumx                             25007 non-null  float64\n",
      " 8   citation.Scopus_plumx                                  25007 non-null  float64\n",
      " 9   citation.CrossRef_plumx                                25007 non-null  float64\n",
      " 10  citation.Academic Citation Index (ACI) - airiti_plumx  25007 non-null  float64\n",
      " 11  citation.PubMed_plumx                                  25007 non-null  float64\n",
      " 12  mention.ABSTRACT_VIEWS_plumx                           25007 non-null  float64\n",
      " 13  mention.DOWNLOAD_COUNT_plumx                           25007 non-null  float64\n",
      " 14  mention.FULL_TEXT_VIEWS_plumx                          25007 non-null  float64\n",
      " 15  capture.EXPORTS_SAVES_plumx                            25007 non-null  float64\n",
      " 16  readers.citeulike_altmetrics                           25007 non-null  float64\n",
      " 17  readers.mendeley_altmetrics                            25007 non-null  float64\n",
      " 18  readers.connotea_altmetrics                            25007 non-null  float64\n",
      " 19  readers_count_altmetrics                               25007 non-null  float64\n",
      " 20  cited_by_posts_count_altmetrics                        25007 non-null  float64\n",
      " 21  cited_by_accounts_count_altmetrics                     25007 non-null  float64\n",
      " 22  cited_by_tweeters_count_altmetrics                     25007 non-null  float64\n",
      " 23  mention.FACEBOOK_COUNT_plumx                           25007 non-null  float64\n",
      " 24  cited_by_fbwalls_count_altmetrics                      25007 non-null  float64\n",
      " 25  cited_by_videos_count_altmetrics                       25007 non-null  float64\n",
      " 26  cited_by_feeds_count_altmetrics                        25007 non-null  float64\n",
      " 27  cited_by_linkedin_count_altmetrics                     25007 non-null  float64\n",
      " 28  cited_by_weibo_count_altmetrics                        25007 non-null  float64\n",
      " 29  cited_by_msm_count_altmetrics                          25007 non-null  float64\n",
      " 30  mention.NEWS_COUNT_plumx                               25007 non-null  float64\n",
      " 31  cited_by_patents_count_altmetrics                      25007 non-null  float64\n",
      " 32  citation.Patent Families_plumx                         25007 non-null  float64\n",
      " 33  citation.Policy Citation_plumx                         25007 non-null  float64\n",
      " 34  cited_by_policies_count_altmetrics                     25007 non-null  float64\n",
      " 35  impact_factor                                          25007 non-null  float64\n",
      " 36  cited_by_wikipedia_count_altmetrics                    25007 non-null  float64\n",
      "dtypes: float64(31), int64(1), object(5)\n",
      "memory usage: 7.1+ MB\n"
     ]
    }
   ],
   "source": [
    "merge.info()"
   ]
  },
  {
   "cell_type": "markdown",
   "id": "2ef7e90d-57c7-4821-89f0-1ff9c6e29f6a",
   "metadata": {},
   "source": [
    "# Bibliometric index"
   ]
  },
  {
   "cell_type": "code",
   "execution_count": 4,
   "id": "a514175c-6a8e-49cb-8d6b-4a04074a96dc",
   "metadata": {},
   "outputs": [],
   "source": [
    "cites_mean = (merge['citation.Scopus_plumx']+merge['citation.CrossRef_plumx']+merge['citation.Academic Citation Index (ACI) - airiti_plumx']+merge['citation.PubMed_plumx'])/4\n",
    "engagement_mean = (merge['capture.READER_COUNT_plumx']+merge['mention.ABSTRACT_VIEWS_plumx']+merge['mention.DOWNLOAD_COUNT_plumx']+merge['mention.FULL_TEXT_VIEWS_plumx']+merge['capture.EXPORTS_SAVES_plumx']+merge['readers.citeulike_altmetrics']+merge['readers.mendeley_altmetrics']+merge['readers.connotea_altmetrics']+merge['readers_count_altmetrics'])/9\n",
    "biblio_mean = 0.5*cites_mean+0.5*engagement_mean\n",
    "biblio_index = biblio_mean.rank(pct=True) "
   ]
  },
  {
   "cell_type": "code",
   "execution_count": 5,
   "id": "9793c184-6f15-43c5-a1dc-3aa5f8ab607b",
   "metadata": {},
   "outputs": [
    {
     "data": {
      "text/plain": [
       "<Axes: >"
      ]
     },
     "execution_count": 5,
     "metadata": {},
     "output_type": "execute_result"
    },
    {
     "data": {
      "image/png": "[encoded data removed]",
      "text/plain": [
       "<Figure size 640x480 with 1 Axes>"
      ]
     },
     "metadata": {},
     "output_type": "display_data"
    }
   ],
   "source": [
    "biblio_index.hist()"
   ]
  },
  {
   "cell_type": "markdown",
   "id": "250d0c83-e9be-467c-9de3-5d1eb56c8554",
   "metadata": {},
   "source": [
    "# Social Media "
   ]
  },
  {
   "cell_type": "code",
   "execution_count": 6,
   "id": "1f0d8f73-46bb-4eba-9ea6-d7072f0c3813",
   "metadata": {},
   "outputs": [],
   "source": [
    "sm_mean = (merge['cited_by_posts_count_altmetrics']+merge['cited_by_accounts_count_altmetrics']+merge['cited_by_tweeters_count_altmetrics']+\n",
    "           merge['mention.FACEBOOK_COUNT_plumx']+merge['cited_by_fbwalls_count_altmetrics']+merge['cited_by_linkedin_count_altmetrics']+\n",
    "           merge['cited_by_weibo_count_altmetrics'])/7\n",
    "sm_index = sm_mean.rank(pct=True)"
   ]
  },
  {
   "cell_type": "code",
   "execution_count": 7,
   "id": "f88ca295-485f-4a37-adde-1c9e5bdf7b45",
   "metadata": {},
   "outputs": [
    {
     "data": {
      "text/plain": [
       "<Axes: >"
      ]
     },
     "execution_count": 7,
     "metadata": {},
     "output_type": "execute_result"
    },
    {
     "data": {
      "image/png": "[encoded data removed]",
      "text/plain": [
       "<Figure size 640x480 with 1 Axes>"
      ]
     },
     "metadata": {},
     "output_type": "display_data"
    }
   ],
   "source": [
    "sm_index.hist()"
   ]
  },
  {
   "cell_type": "markdown",
   "id": "07b6362f-ecdd-4900-b56c-dfb8848c33fb",
   "metadata": {},
   "source": [
    "# News Media"
   ]
  },
  {
   "cell_type": "code",
   "execution_count": 8,
   "id": "86d2ee66-55f2-4b65-b41e-879da72c034c",
   "metadata": {},
   "outputs": [],
   "source": [
    "nm_mean = (merge['cited_by_msm_count_altmetrics']+merge['mention.NEWS_COUNT_plumx'])/2\n",
    "nm_index = nm_mean.rank(pct=True)"
   ]
  },
  {
   "cell_type": "code",
   "execution_count": 9,
   "id": "16827889-111b-4ab6-a818-4ff661c11a52",
   "metadata": {},
   "outputs": [
    {
     "data": {
      "text/plain": [
       "<Axes: >"
      ]
     },
     "execution_count": 9,
     "metadata": {},
     "output_type": "execute_result"
    },
    {
     "data": {
      "image/png": "[encoded data removed]",
      "text/plain": [
       "<Figure size 640x480 with 1 Axes>"
      ]
     },
     "metadata": {},
     "output_type": "display_data"
    }
   ],
   "source": [
    "nm_index.hist()"
   ]
  },
  {
   "cell_type": "markdown",
   "id": "6a81a6c1-a832-42e6-b56c-79cad0e36cbd",
   "metadata": {},
   "source": [
    "# Patents"
   ]
  },
  {
   "cell_type": "code",
   "execution_count": 10,
   "id": "aa784e33-079c-4842-9db5-1da986be5b93",
   "metadata": {},
   "outputs": [],
   "source": [
    "patent_mean = (merge['cited_by_patents_count_altmetrics']+merge['citation.Patent Families_plumx'])/2\n",
    "patent_index = patent_mean.rank(pct=True)"
   ]
  },
  {
   "cell_type": "code",
   "execution_count": 11,
   "id": "ab64e1c4-3ab0-4090-82cb-8d05e6af2196",
   "metadata": {},
   "outputs": [
    {
     "data": {
      "text/plain": [
       "<Axes: >"
      ]
     },
     "execution_count": 11,
     "metadata": {},
     "output_type": "execute_result"
    },
    {
     "data": {
      "image/png": "[encoded data removed]",
      "text/plain": [
       "<Figure size 640x480 with 1 Axes>"
      ]
     },
     "metadata": {},
     "output_type": "display_data"
    }
   ],
   "source": [
    "patent_index.hist()"
   ]
  },
  {
   "cell_type": "markdown",
   "id": "34cddc43-c739-4dd2-949d-94add28c101e",
   "metadata": {},
   "source": [
    "# Policies"
   ]
  },
  {
   "cell_type": "code",
   "execution_count": 12,
   "id": "afc93ec8-fa14-4e18-a46d-5ceb0c9b0e82",
   "metadata": {},
   "outputs": [],
   "source": [
    "policy_mean = (merge['citation.Policy Citation_plumx']+merge['cited_by_policies_count_altmetrics'])/2\n",
    "policy_index = policy_mean.rank(pct=True)"
   ]
  },
  {
   "cell_type": "code",
   "execution_count": 13,
   "id": "6e29ed27-1a8a-455c-aeff-86ce1c2a12e5",
   "metadata": {},
   "outputs": [
    {
     "data": {
      "text/plain": [
       "<Axes: >"
      ]
     },
     "execution_count": 13,
     "metadata": {},
     "output_type": "execute_result"
    },
    {
     "data": {
      "image/png": "[encoded data removed]",
      "text/plain": [
       "<Figure size 640x480 with 1 Axes>"
      ]
     },
     "metadata": {},
     "output_type": "display_data"
    }
   ],
   "source": [
    "policy_index.hist()"
   ]
  },
  {
   "cell_type": "markdown",
   "id": "374c26a9-0a23-4d95-9313-858343d202e9",
   "metadata": {},
   "source": [
    "# Journal Impact Factor"
   ]
  },
  {
   "cell_type": "code",
   "execution_count": 14,
   "id": "d4177f0c-efce-4f9e-807a-6f16a81bc2e1",
   "metadata": {},
   "outputs": [],
   "source": [
    "jif_index = merge['impact_factor']"
   ]
  },
  {
   "cell_type": "code",
   "execution_count": 15,
   "id": "280a993a-7b36-4c49-93c9-48cacf4aca50",
   "metadata": {},
   "outputs": [
    {
     "data": {
      "text/plain": [
       "<Axes: >"
      ]
     },
     "execution_count": 15,
     "metadata": {},
     "output_type": "execute_result"
    },
    {
     "data": {
      "image/png": "[encoded data removed]",
      "text/plain": [
       "<Figure size 640x480 with 1 Axes>"
      ]
     },
     "metadata": {},
     "output_type": "display_data"
    }
   ],
   "source": [
    "jif_index.hist()"
   ]
  },
  {
   "cell_type": "markdown",
   "id": "2f2ae02a-5b6b-468c-95ed-a4f0a34f3c7b",
   "metadata": {},
   "source": [
    "# Misc"
   ]
  },
  {
   "cell_type": "code",
   "execution_count": 16,
   "id": "a7de6d67-8f33-4ddc-9613-754f0c4e7ca2",
   "metadata": {},
   "outputs": [],
   "source": [
    "misc_mean = (merge['cited_by_feeds_count_altmetrics']+merge['cited_by_videos_count_altmetrics']+merge['cited_by_wikipedia_count_altmetrics'])/3\n",
    "misc_index = misc_mean.rank(pct=True)"
   ]
  },
  {
   "cell_type": "code",
   "execution_count": 17,
   "id": "e125c4ea-ad50-45b5-bfd8-1feacd0f144f",
   "metadata": {},
   "outputs": [
    {
     "data": {
      "text/plain": [
       "<Axes: >"
      ]
     },
     "execution_count": 17,
     "metadata": {},
     "output_type": "execute_result"
    },
    {
     "data": {
      "image/png": "[encoded data removed]",
      "text/plain": [
       "<Figure size 640x480 with 1 Axes>"
      ]
     },
     "metadata": {},
     "output_type": "display_data"
    }
   ],
   "source": [
    "misc_index.hist()"
   ]
  },
  {
   "cell_type": "markdown",
   "id": "a16d4dfa-166c-4d19-a50f-6c145177d6a9",
   "metadata": {},
   "source": [
    "# Overall Index"
   ]
  },
  {
   "cell_type": "code",
   "execution_count": 18,
   "id": "89567d1c-c0a9-4c28-8119-f5c5ada3fc4a",
   "metadata": {},
   "outputs": [],
   "source": [
    "overall_mean = 0.5*biblio_index+0.1*sm_index+0.1*nm_index+0.1*patent_index+0.1*policy_index+0.05*jif_index+0.05*misc_index\n",
    "overall_index = overall_mean.rank(pct=True)"
   ]
  },
  {
   "cell_type": "code",
   "execution_count": 19,
   "id": "54825bd2-f6b7-41f3-b99f-5eb8e333abf0",
   "metadata": {},
   "outputs": [
    {
     "data": {
      "text/plain": [
       "<Axes: >"
      ]
     },
     "execution_count": 19,
     "metadata": {},
     "output_type": "execute_result"
    },
    {
     "data": {
      "image/png": "[encoded data removed]",
      "text/plain": [
       "<Figure size 640x480 with 1 Axes>"
      ]
     },
     "metadata": {},
     "output_type": "display_data"
    }
   ],
   "source": [
    "overall_index.hist()"
   ]
  },
  {
   "cell_type": "code",
   "execution_count": 20,
   "id": "39427d18-3cec-412c-85a4-ef0cb905abb0",
   "metadata": {},
   "outputs": [
    {
     "data": {
      "text/plain": [
       "0        0.239093\n",
       "1        0.702723\n",
       "2        0.544608\n",
       "3        0.690867\n",
       "4        0.710561\n",
       "           ...   \n",
       "25002    0.666853\n",
       "25003    0.981645\n",
       "25004    0.347903\n",
       "25005    0.739313\n",
       "25006    0.483944\n",
       "Length: 25007, dtype: float64"
      ]
     },
     "execution_count": 20,
     "metadata": {},
     "output_type": "execute_result"
    }
   ],
   "source": [
    "overall_index"
   ]
  },
  {
   "cell_type": "code",
   "execution_count": 21,
   "id": "719e1671-0176-4dc2-bf69-9cb026e26b4c",
   "metadata": {},
   "outputs": [],
   "source": [
    "final_indices_df = merge[['Authors', 'Title', 'Year', 'Source', 'ArticleURL', 'DOI']]\n",
    "final_indices_df['biblio_index'] = biblio_index\n",
    "final_indices_df['sm_index'] = sm_index\n",
    "final_indices_df['nm_index'] = nm_index\n",
    "final_indices_df['patent_index'] = patent_index\n",
    "final_indices_df['policy_index'] = policy_index\n",
    "final_indices_df['jif_index'] = jif_index\n",
    "final_indices_df['misc_index'] = misc_index\n",
    "final_indices_df['overall_index'] = overall_index"
   ]
  },
  {
   "cell_type": "code",
   "execution_count": 22,
   "id": "0f15b6b5-d5bb-47da-b800-75e30a755383",
   "metadata": {},
   "outputs": [
    {
     "data": {
      "text/html": [
       "<div>\n",
       "<style scoped>\n",
       "    .dataframe tbody tr th:only-of-type {\n",
       "        vertical-align: middle;\n",
       "    }\n",
       "\n",
       "    .dataframe tbody tr th {\n",
       "        vertical-align: top;\n",
       "    }\n",
       "\n",
       "    .dataframe thead th {\n",
       "        text-align: right;\n",
       "    }\n",
       "</style>\n",
       "<table border=\"1\" class=\"dataframe\">\n",
       "  <thead>\n",
       "    <tr style=\"text-align: right;\">\n",
       "      <th></th>\n",
       "      <th>Authors</th>\n",
       "      <th>Title</th>\n",
       "      <th>Year</th>\n",
       "      <th>Source</th>\n",
       "      <th>ArticleURL</th>\n",
       "      <th>DOI</th>\n",
       "      <th>biblio_index</th>\n",
       "      <th>sm_index</th>\n",
       "      <th>nm_index</th>\n",
       "      <th>patent_index</th>\n",
       "      <th>policy_index</th>\n",
       "      <th>jif_index</th>\n",
       "      <th>misc_index</th>\n",
       "      <th>overall_index</th>\n",
       "    </tr>\n",
       "  </thead>\n",
       "  <tbody>\n",
       "    <tr>\n",
       "      <th>0</th>\n",
       "      <td>K. P. Wiederhold, Y. Yamaguchi, A. Ayala, M. M...</td>\n",
       "      <td>Ti/TiN coatings for microfabricated cantilever...</td>\n",
       "      <td>2000</td>\n",
       "      <td>Journal of Vacuum Science &amp;amp; Technology B: ...</td>\n",
       "      <td>http://dx.doi.org/10.1116/1.591356</td>\n",
       "      <td>10.1116/1.591356</td>\n",
       "      <td>0.266965</td>\n",
       "      <td>0.324209</td>\n",
       "      <td>0.464030</td>\n",
       "      <td>0.459671</td>\n",
       "      <td>0.449214</td>\n",
       "      <td>0.227956</td>\n",
       "      <td>0.468529</td>\n",
       "      <td>0.239093</td>\n",
       "    </tr>\n",
       "    <tr>\n",
       "      <th>1</th>\n",
       "      <td>Carolyn A. Marr, Linda French, Donna Thompson,...</td>\n",
       "      <td>Animal-Assisted Therapy in Psychiatric Rehabil...</td>\n",
       "      <td>2000</td>\n",
       "      <td>Anthrozoös</td>\n",
       "      <td>http://dx.doi.org/10.2752/089279300786999950</td>\n",
       "      <td>10.2752/089279300786999950</td>\n",
       "      <td>0.804815</td>\n",
       "      <td>0.324209</td>\n",
       "      <td>0.464030</td>\n",
       "      <td>0.459671</td>\n",
       "      <td>0.449214</td>\n",
       "      <td>0.227956</td>\n",
       "      <td>0.468529</td>\n",
       "      <td>0.702723</td>\n",
       "    </tr>\n",
       "    <tr>\n",
       "      <th>2</th>\n",
       "      <td>Shiela J. Heater, Mary W. Carrano, Douglas Rai...</td>\n",
       "      <td>Interaction of Oxo-Bridged Vanadium(III) Phena...</td>\n",
       "      <td>2000</td>\n",
       "      <td>Inorganic Chemistry</td>\n",
       "      <td>http://dx.doi.org/10.1021/ic000389r</td>\n",
       "      <td>10.1021/ic000389r</td>\n",
       "      <td>0.579078</td>\n",
       "      <td>0.324209</td>\n",
       "      <td>0.464030</td>\n",
       "      <td>0.459671</td>\n",
       "      <td>0.449214</td>\n",
       "      <td>0.622566</td>\n",
       "      <td>0.468529</td>\n",
       "      <td>0.544608</td>\n",
       "    </tr>\n",
       "    <tr>\n",
       "      <th>3</th>\n",
       "      <td>Walter E. Rudzinski, Tejraj M. Aminabhavi, Ste...</td>\n",
       "      <td>Isolation and Characterization of the Saturate...</td>\n",
       "      <td>2000</td>\n",
       "      <td>Energy &amp;amp; Fuels</td>\n",
       "      <td>http://dx.doi.org/10.1021/ef990207h</td>\n",
       "      <td>10.1021/ef990207h</td>\n",
       "      <td>0.613068</td>\n",
       "      <td>0.724897</td>\n",
       "      <td>0.464030</td>\n",
       "      <td>0.950734</td>\n",
       "      <td>0.449214</td>\n",
       "      <td>0.227956</td>\n",
       "      <td>0.468529</td>\n",
       "      <td>0.690867</td>\n",
       "    </tr>\n",
       "    <tr>\n",
       "      <th>4</th>\n",
       "      <td>John P Tiefenbacher, Frederick A Day, Joseph A...</td>\n",
       "      <td>Attributes of repeat visitors to small tourist...</td>\n",
       "      <td>2000</td>\n",
       "      <td>The Social Science Journal</td>\n",
       "      <td>http://dx.doi.org/10.1016/s0362-3319(00)00063-x</td>\n",
       "      <td>10.1016/s0362-3319(00)00063-x</td>\n",
       "      <td>0.641021</td>\n",
       "      <td>0.668773</td>\n",
       "      <td>0.464030</td>\n",
       "      <td>0.459671</td>\n",
       "      <td>0.973667</td>\n",
       "      <td>0.227956</td>\n",
       "      <td>0.468529</td>\n",
       "      <td>0.710561</td>\n",
       "    </tr>\n",
       "    <tr>\n",
       "      <th>...</th>\n",
       "      <td>...</td>\n",
       "      <td>...</td>\n",
       "      <td>...</td>\n",
       "      <td>...</td>\n",
       "      <td>...</td>\n",
       "      <td>...</td>\n",
       "      <td>...</td>\n",
       "      <td>...</td>\n",
       "      <td>...</td>\n",
       "      <td>...</td>\n",
       "      <td>...</td>\n",
       "      <td>...</td>\n",
       "      <td>...</td>\n",
       "      <td>...</td>\n",
       "    </tr>\n",
       "    <tr>\n",
       "      <th>25002</th>\n",
       "      <td>Ishola, Adenrele A.; Valles, Damian</td>\n",
       "      <td>Enhancing Safety and Efficiency in Firefightin...</td>\n",
       "      <td>2023</td>\n",
       "      <td>Sensors</td>\n",
       "      <td>https://www.mdpi.com/1424-8220/23/10/4628</td>\n",
       "      <td>10.3390/s23104628</td>\n",
       "      <td>0.478226</td>\n",
       "      <td>0.891590</td>\n",
       "      <td>0.954693</td>\n",
       "      <td>0.459671</td>\n",
       "      <td>0.449214</td>\n",
       "      <td>0.941057</td>\n",
       "      <td>0.468529</td>\n",
       "      <td>0.666853</td>\n",
       "    </tr>\n",
       "    <tr>\n",
       "      <th>25003</th>\n",
       "      <td>Zhu, Jie; Chen, Cheng; Lu, Liping; Shikany, Ja...</td>\n",
       "      <td>Folate, Vitamin B &lt;sub&gt;6&lt;/sub&gt; , and Vitamin B...</td>\n",
       "      <td>2023</td>\n",
       "      <td>JAMA Network Open</td>\n",
       "      <td>https://jamanetwork.com/journals/jamanetworkop...</td>\n",
       "      <td>10.1001/jamanetworkopen.2022.50621</td>\n",
       "      <td>0.930539</td>\n",
       "      <td>0.999560</td>\n",
       "      <td>0.998280</td>\n",
       "      <td>0.459671</td>\n",
       "      <td>0.449214</td>\n",
       "      <td>0.992342</td>\n",
       "      <td>0.970568</td>\n",
       "      <td>0.981645</td>\n",
       "    </tr>\n",
       "    <tr>\n",
       "      <th>25004</th>\n",
       "      <td>Schepis, Ty S.; Rogers, Andrew H.; Munoz, Lili...</td>\n",
       "      <td>Indirect effects of emotion regulation in the ...</td>\n",
       "      <td>2024</td>\n",
       "      <td>Addictive Behaviors</td>\n",
       "      <td>https://linkinghub.elsevier.com/retrieve/pii/S...</td>\n",
       "      <td>10.1016/j.addbeh.2024.107983</td>\n",
       "      <td>0.217159</td>\n",
       "      <td>0.324209</td>\n",
       "      <td>0.965650</td>\n",
       "      <td>0.459671</td>\n",
       "      <td>0.449214</td>\n",
       "      <td>0.983165</td>\n",
       "      <td>0.468529</td>\n",
       "      <td>0.347903</td>\n",
       "    </tr>\n",
       "    <tr>\n",
       "      <th>25005</th>\n",
       "      <td>McAllister, Matthew J.; Gonzalez, Drew E.; Leo...</td>\n",
       "      <td>Firefighters With Higher Cardiorespiratory Fit...</td>\n",
       "      <td>2022</td>\n",
       "      <td>Journal of Occupational &amp; Environmental Medicine</td>\n",
       "      <td>https://journals.lww.com/10.1097/JOM.000000000...</td>\n",
       "      <td>10.1097/JOM.0000000000002632</td>\n",
       "      <td>0.853081</td>\n",
       "      <td>0.324209</td>\n",
       "      <td>0.464030</td>\n",
       "      <td>0.459671</td>\n",
       "      <td>0.449214</td>\n",
       "      <td>0.227956</td>\n",
       "      <td>0.468529</td>\n",
       "      <td>0.739313</td>\n",
       "    </tr>\n",
       "    <tr>\n",
       "      <th>25006</th>\n",
       "      <td>Engstrom, Curtiss W.; West, Brady T.; Schepis,...</td>\n",
       "      <td>Does the approach used to measure sexual ident...</td>\n",
       "      <td>2024</td>\n",
       "      <td>Social Science &amp; Medicine</td>\n",
       "      <td>https://linkinghub.elsevier.com/retrieve/pii/S...</td>\n",
       "      <td>10.1016/j.socscimed.2024.116887</td>\n",
       "      <td>0.352401</td>\n",
       "      <td>0.935458</td>\n",
       "      <td>0.464030</td>\n",
       "      <td>0.459671</td>\n",
       "      <td>0.449214</td>\n",
       "      <td>0.986644</td>\n",
       "      <td>0.468529</td>\n",
       "      <td>0.483944</td>\n",
       "    </tr>\n",
       "  </tbody>\n",
       "</table>\n",
       "<p>25007 rows × 14 columns</p>\n",
       "</div>"
      ],
      "text/plain": [
       "                                                 Authors  \\\n",
       "0      K. P. Wiederhold, Y. Yamaguchi, A. Ayala, M. M...   \n",
       "1      Carolyn A. Marr, Linda French, Donna Thompson,...   \n",
       "2      Shiela J. Heater, Mary W. Carrano, Douglas Rai...   \n",
       "3      Walter E. Rudzinski, Tejraj M. Aminabhavi, Ste...   \n",
       "4      John P Tiefenbacher, Frederick A Day, Joseph A...   \n",
       "...                                                  ...   \n",
       "25002                Ishola, Adenrele A.; Valles, Damian   \n",
       "25003  Zhu, Jie; Chen, Cheng; Lu, Liping; Shikany, Ja...   \n",
       "25004  Schepis, Ty S.; Rogers, Andrew H.; Munoz, Lili...   \n",
       "25005  McAllister, Matthew J.; Gonzalez, Drew E.; Leo...   \n",
       "25006  Engstrom, Curtiss W.; West, Brady T.; Schepis,...   \n",
       "\n",
       "                                                   Title  Year  \\\n",
       "0      Ti/TiN coatings for microfabricated cantilever...  2000   \n",
       "1      Animal-Assisted Therapy in Psychiatric Rehabil...  2000   \n",
       "2      Interaction of Oxo-Bridged Vanadium(III) Phena...  2000   \n",
       "3      Isolation and Characterization of the Saturate...  2000   \n",
       "4      Attributes of repeat visitors to small tourist...  2000   \n",
       "...                                                  ...   ...   \n",
       "25002  Enhancing Safety and Efficiency in Firefightin...  2023   \n",
       "25003  Folate, Vitamin B <sub>6</sub> , and Vitamin B...  2023   \n",
       "25004  Indirect effects of emotion regulation in the ...  2024   \n",
       "25005  Firefighters With Higher Cardiorespiratory Fit...  2022   \n",
       "25006  Does the approach used to measure sexual ident...  2024   \n",
       "\n",
       "                                                  Source  \\\n",
       "0      Journal of Vacuum Science &amp; Technology B: ...   \n",
       "1                                             Anthrozoös   \n",
       "2                                    Inorganic Chemistry   \n",
       "3                                     Energy &amp; Fuels   \n",
       "4                             The Social Science Journal   \n",
       "...                                                  ...   \n",
       "25002                                            Sensors   \n",
       "25003                                  JAMA Network Open   \n",
       "25004                                Addictive Behaviors   \n",
       "25005   Journal of Occupational & Environmental Medicine   \n",
       "25006                          Social Science & Medicine   \n",
       "\n",
       "                                              ArticleURL  \\\n",
       "0                     http://dx.doi.org/10.1116/1.591356   \n",
       "1           http://dx.doi.org/10.2752/089279300786999950   \n",
       "2                    http://dx.doi.org/10.1021/ic000389r   \n",
       "3                    http://dx.doi.org/10.1021/ef990207h   \n",
       "4        http://dx.doi.org/10.1016/s0362-3319(00)00063-x   \n",
       "...                                                  ...   \n",
       "25002          https://www.mdpi.com/1424-8220/23/10/4628   \n",
       "25003  https://jamanetwork.com/journals/jamanetworkop...   \n",
       "25004  https://linkinghub.elsevier.com/retrieve/pii/S...   \n",
       "25005  https://journals.lww.com/10.1097/JOM.000000000...   \n",
       "25006  https://linkinghub.elsevier.com/retrieve/pii/S...   \n",
       "\n",
       "                                      DOI  biblio_index  sm_index  nm_index  \\\n",
       "0                        10.1116/1.591356      0.266965  0.324209  0.464030   \n",
       "1              10.2752/089279300786999950      0.804815  0.324209  0.464030   \n",
       "2                       10.1021/ic000389r      0.579078  0.324209  0.464030   \n",
       "3                       10.1021/ef990207h      0.613068  0.724897  0.464030   \n",
       "4           10.1016/s0362-3319(00)00063-x      0.641021  0.668773  0.464030   \n",
       "...                                   ...           ...       ...       ...   \n",
       "25002                   10.3390/s23104628      0.478226  0.891590  0.954693   \n",
       "25003  10.1001/jamanetworkopen.2022.50621      0.930539  0.999560  0.998280   \n",
       "25004        10.1016/j.addbeh.2024.107983      0.217159  0.324209  0.965650   \n",
       "25005        10.1097/JOM.0000000000002632      0.853081  0.324209  0.464030   \n",
       "25006     10.1016/j.socscimed.2024.116887      0.352401  0.935458  0.464030   \n",
       "\n",
       "       patent_index  policy_index  jif_index  misc_index  overall_index  \n",
       "0          0.459671      0.449214   0.227956    0.468529       0.239093  \n",
       "1          0.459671      0.449214   0.227956    0.468529       0.702723  \n",
       "2          0.459671      0.449214   0.622566    0.468529       0.544608  \n",
       "3          0.950734      0.449214   0.227956    0.468529       0.690867  \n",
       "4          0.459671      0.973667   0.227956    0.468529       0.710561  \n",
       "...             ...           ...        ...         ...            ...  \n",
       "25002      0.459671      0.449214   0.941057    0.468529       0.666853  \n",
       "25003      0.459671      0.449214   0.992342    0.970568       0.981645  \n",
       "25004      0.459671      0.449214   0.983165    0.468529       0.347903  \n",
       "25005      0.459671      0.449214   0.227956    0.468529       0.739313  \n",
       "25006      0.459671      0.449214   0.986644    0.468529       0.483944  \n",
       "\n",
       "[25007 rows x 14 columns]"
      ]
     },
     "execution_count": 22,
     "metadata": {},
     "output_type": "execute_result"
    }
   ],
   "source": [
    "final_indices_df"
   ]
  },
  {
   "cell_type": "code",
   "execution_count": 23,
   "id": "2141310f-c52f-4a39-89f8-ba5660c2e272",
   "metadata": {},
   "outputs": [],
   "source": [
    "final_indices_df.to_csv(\"final_indices_df.csv\", index=False)"
   ]
  },
  {
   "cell_type": "code",
   "execution_count": null,
   "id": "cd81e01a-8803-4ac9-9595-77e0584980e9",
   "metadata": {},
   "outputs": [],
   "source": []
  },
  {
   "cell_type": "code",
   "execution_count": null,
   "id": "30636884-6c23-4372-a9c0-2c85e708fa65",
   "metadata": {},
   "outputs": [],
   "source": []
  },
  {
   "cell_type": "code",
   "execution_count": null,
   "id": "df1479b1-8cdf-459b-ba66-da42b380d228",
   "metadata": {},
   "outputs": [],
   "source": []
  }
 ],
 "metadata": {
  "kernelspec": {
   "display_name": "Python 3 (ipykernel)",
   "language": "python",
   "name": "python3"
  },
  "language_info": {
   "codemirror_mode": {
    "name": "ipython",
    "version": 3
   },
   "file_extension": ".py",
   "mimetype": "text/x-python",
   "name": "python",
   "nbconvert_exporter": "python",
   "pygments_lexer": "ipython3",
   "version": "3.11.5"
  }
 },
 "nbformat": 4,
 "nbformat_minor": 5
}
