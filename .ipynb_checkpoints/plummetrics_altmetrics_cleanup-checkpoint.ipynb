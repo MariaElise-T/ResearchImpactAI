{
 "cells": [
  {
   "cell_type": "code",
   "execution_count": 68,
   "id": "9061132a-82ae-4c57-9dc5-cda5dbb2833c",
   "metadata": {},
   "outputs": [],
   "source": [
    "import json\n",
    "import pandas as pd\n",
    "import re\n",
    "import ast"
   ]
  },
  {
   "cell_type": "code",
   "execution_count": 18,
   "id": "b3c0950b-a410-4c1c-aa8d-defa91fb30e4",
   "metadata": {},
   "outputs": [],
   "source": [
    "f = open('plumx_metrics_data.json')\n",
    "data_json = json.load(f)"
   ]
  },
  {
   "cell_type": "code",
   "execution_count": 33,
   "id": "e2ba6524-b084-4ff0-bf93-5eb43b60a4dd",
   "metadata": {},
   "outputs": [],
   "source": [
    "data_flat = pd.DataFrame()\n",
    "for item in data_json:\n",
    "    item_flat =  pd.json_normalize(item)\n",
    "    data_flat = pd.concat([data_flat, item_flat], axis=0, join='outer')"
   ]
  },
  {
   "cell_type": "code",
   "execution_count": 35,
   "id": "f7effc17-b9a3-407d-b4b4-02fba6a6f577",
   "metadata": {},
   "outputs": [],
   "source": [
    "data_flat.to_csv(\"plumx_metrics_cleaned.csv\", index=False)"
   ]
  },
  {
   "cell_type": "code",
   "execution_count": 75,
   "id": "656e7e1d-3664-444d-bbf0-69c770806474",
   "metadata": {},
   "outputs": [],
   "source": [
    "f = open('altmetric_data.json')\n",
    "altmetrics_corpus = f.read()\n",
    "altmetrics_corpus = altmetrics_corpus.replace('\\\\', '')\n",
    "altmetrics_corpus = altmetrics_corpus.replace(',', ', ')\n",
    "altmetrics_corpus = altmetrics_corpus[1:-1]"
   ]
  },
  {
   "cell_type": "code",
   "execution_count": 76,
   "id": "e4622ebd-dc69-48bf-9f7a-0b352d842f2e",
   "metadata": {},
   "outputs": [
    {
     "data": {
      "text/plain": [
       "str"
      ]
     },
     "execution_count": 76,
     "metadata": {},
     "output_type": "execute_result"
    }
   ],
   "source": [
    "type(altmetrics_corpus)"
   ]
  },
  {
   "cell_type": "code",
   "execution_count": 77,
   "id": "add96ad4-d129-41ee-b0da-3b4dc55f1004",
   "metadata": {
    "scrolled": true
   },
   "outputs": [
    {
     "ename": "JSONDecodeError",
     "evalue": "Extra data: line 1 column 1834 (char 1833)",
     "output_type": "error",
     "traceback": [
      "\u001b[1;31m---------------------------------------------------------------------------\u001b[0m",
      "\u001b[1;31mJSONDecodeError\u001b[0m                           Traceback (most recent call last)",
      "Cell \u001b[1;32mIn[77], line 1\u001b[0m\n\u001b[1;32m----> 1\u001b[0m altmetrics_dict \u001b[38;5;241m=\u001b[39m json\u001b[38;5;241m.\u001b[39mloads(altmetrics_corpus)\n",
      "File \u001b[1;32m~\\AppData\\Local\\anaconda3\\Lib\\json\\__init__.py:346\u001b[0m, in \u001b[0;36mloads\u001b[1;34m(s, cls, object_hook, parse_float, parse_int, parse_constant, object_pairs_hook, **kw)\u001b[0m\n\u001b[0;32m    341\u001b[0m     s \u001b[38;5;241m=\u001b[39m s\u001b[38;5;241m.\u001b[39mdecode(detect_encoding(s), \u001b[38;5;124m'\u001b[39m\u001b[38;5;124msurrogatepass\u001b[39m\u001b[38;5;124m'\u001b[39m)\n\u001b[0;32m    343\u001b[0m \u001b[38;5;28;01mif\u001b[39;00m (\u001b[38;5;28mcls\u001b[39m \u001b[38;5;129;01mis\u001b[39;00m \u001b[38;5;28;01mNone\u001b[39;00m \u001b[38;5;129;01mand\u001b[39;00m object_hook \u001b[38;5;129;01mis\u001b[39;00m \u001b[38;5;28;01mNone\u001b[39;00m \u001b[38;5;129;01mand\u001b[39;00m\n\u001b[0;32m    344\u001b[0m         parse_int \u001b[38;5;129;01mis\u001b[39;00m \u001b[38;5;28;01mNone\u001b[39;00m \u001b[38;5;129;01mand\u001b[39;00m parse_float \u001b[38;5;129;01mis\u001b[39;00m \u001b[38;5;28;01mNone\u001b[39;00m \u001b[38;5;129;01mand\u001b[39;00m\n\u001b[0;32m    345\u001b[0m         parse_constant \u001b[38;5;129;01mis\u001b[39;00m \u001b[38;5;28;01mNone\u001b[39;00m \u001b[38;5;129;01mand\u001b[39;00m object_pairs_hook \u001b[38;5;129;01mis\u001b[39;00m \u001b[38;5;28;01mNone\u001b[39;00m \u001b[38;5;129;01mand\u001b[39;00m \u001b[38;5;129;01mnot\u001b[39;00m kw):\n\u001b[1;32m--> 346\u001b[0m     \u001b[38;5;28;01mreturn\u001b[39;00m _default_decoder\u001b[38;5;241m.\u001b[39mdecode(s)\n\u001b[0;32m    347\u001b[0m \u001b[38;5;28;01mif\u001b[39;00m \u001b[38;5;28mcls\u001b[39m \u001b[38;5;129;01mis\u001b[39;00m \u001b[38;5;28;01mNone\u001b[39;00m:\n\u001b[0;32m    348\u001b[0m     \u001b[38;5;28mcls\u001b[39m \u001b[38;5;241m=\u001b[39m JSONDecoder\n",
      "File \u001b[1;32m~\\AppData\\Local\\anaconda3\\Lib\\json\\decoder.py:340\u001b[0m, in \u001b[0;36mJSONDecoder.decode\u001b[1;34m(self, s, _w)\u001b[0m\n\u001b[0;32m    338\u001b[0m end \u001b[38;5;241m=\u001b[39m _w(s, end)\u001b[38;5;241m.\u001b[39mend()\n\u001b[0;32m    339\u001b[0m \u001b[38;5;28;01mif\u001b[39;00m end \u001b[38;5;241m!=\u001b[39m \u001b[38;5;28mlen\u001b[39m(s):\n\u001b[1;32m--> 340\u001b[0m     \u001b[38;5;28;01mraise\u001b[39;00m JSONDecodeError(\u001b[38;5;124m\"\u001b[39m\u001b[38;5;124mExtra data\u001b[39m\u001b[38;5;124m\"\u001b[39m, s, end)\n\u001b[0;32m    341\u001b[0m \u001b[38;5;28;01mreturn\u001b[39;00m obj\n",
      "\u001b[1;31mJSONDecodeError\u001b[0m: Extra data: line 1 column 1834 (char 1833)"
     ]
    }
   ],
   "source": [
    "altmetrics_dict = ast.literal_eval((altmetrics_corpus)"
   ]
  },
  {
   "cell_type": "code",
   "execution_count": 74,
   "id": "4dc4c6e9-cb4e-4b26-a7ce-e4dc016942bf",
   "metadata": {},
   "outputs": [
    {
     "data": {
      "text/plain": [
       "'\"{\"title\":\"Isolation and Chara'"
      ]
     },
     "execution_count": 74,
     "metadata": {},
     "output_type": "execute_result"
    }
   ],
   "source": [
    "altmetrics_corpus[0:30]"
   ]
  },
  {
   "cell_type": "code",
   "execution_count": null,
   "id": "824f664e-6b43-4e59-99a5-908bff7d9a7d",
   "metadata": {},
   "outputs": [],
   "source": []
  }
 ],
 "metadata": {
  "kernelspec": {
   "display_name": "Python 3 (ipykernel)",
   "language": "python",
   "name": "python3"
  },
  "language_info": {
   "codemirror_mode": {
    "name": "ipython",
    "version": 3
   },
   "file_extension": ".py",
   "mimetype": "text/x-python",
   "name": "python",
   "nbconvert_exporter": "python",
   "pygments_lexer": "ipython3",
   "version": "3.11.5"
  }
 },
 "nbformat": 4,
 "nbformat_minor": 5
}
