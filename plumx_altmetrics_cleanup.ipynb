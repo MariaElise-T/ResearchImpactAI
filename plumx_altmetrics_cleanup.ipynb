{
 "cells": [
  {
   "cell_type": "code",
   "execution_count": 2,
   "id": "46013562-c766-4008-8dc8-f7ee1de78fc3",
   "metadata": {},
   "outputs": [
    {
     "name": "stderr",
     "output_type": "stream",
     "text": [
      "C:\\Users\\met48\\AppData\\Local\\Temp\\ipykernel_24052\\2162656668.py:1: DeprecationWarning: \n",
      "Pyarrow will become a required dependency of pandas in the next major release of pandas (pandas 3.0),\n",
      "(to allow more performant data types, such as the Arrow string type, and better interoperability with other libraries)\n",
      "but was not found to be installed on your system.\n",
      "If this would cause problems for you,\n",
      "please provide us feedback at https://github.com/pandas-dev/pandas/issues/54466\n",
      "        \n",
      "  import pandas as pd\n"
     ]
    }
   ],
   "source": [
    "import pandas as pd\n",
    "import numpy as np"
   ]
  },
  {
   "cell_type": "markdown",
   "id": "f496c3fe-4e7d-43ac-9872-578efdc529ec",
   "metadata": {},
   "source": [
    "# PlumX Metrics"
   ]
  },
  {
   "cell_type": "code",
   "execution_count": 13,
   "id": "0ef39ea7-0174-4a4d-888c-03773980e438",
   "metadata": {},
   "outputs": [
    {
     "data": {
      "text/plain": [
       "(24515, 20)"
      ]
     },
     "execution_count": 13,
     "metadata": {},
     "output_type": "execute_result"
    }
   ],
   "source": [
    "plumx = pd.read_csv(\"plumx_metrics_tabular_uncleaned.csv\")\n",
    "plumx.shape"
   ]
  },
  {
   "cell_type": "code",
   "execution_count": 14,
   "id": "b4f11299-f5ce-46c9-9798-6033219142c6",
   "metadata": {},
   "outputs": [],
   "source": [
    "plumx = plumx.add_suffix('_plumx')\n",
    "plumx = plumx.fillna(0)\n",
    "plumx = plumx.drop_duplicates(subset=['doi_plumx'], keep='first')"
   ]
  },
  {
   "cell_type": "code",
   "execution_count": 16,
   "id": "2e396345-0705-4acf-a2d0-c9389c7d5344",
   "metadata": {},
   "outputs": [
    {
     "data": {
      "text/plain": [
       "(24515, 20)"
      ]
     },
     "execution_count": 16,
     "metadata": {},
     "output_type": "execute_result"
    }
   ],
   "source": [
    "plumx.shape"
   ]
  },
  {
   "cell_type": "code",
   "execution_count": 52,
   "id": "ec7afb45-3ac6-4e7a-8865-3ef74de55cb8",
   "metadata": {},
   "outputs": [],
   "source": [
    "plumx.to_csv(\"plumx_metrics_tabular_cleaned.csv\")"
   ]
  },
  {
   "cell_type": "markdown",
   "id": "d15c6e77-52d4-4685-b030-765c83c887d9",
   "metadata": {},
   "source": [
    "# Altmetrics"
   ]
  },
  {
   "cell_type": "code",
   "execution_count": 28,
   "id": "43d4ebf7-c22d-4921-90e6-16d573fc0708",
   "metadata": {},
   "outputs": [
    {
     "data": {
      "text/plain": [
       "(8306, 100)"
      ]
     },
     "execution_count": 28,
     "metadata": {},
     "output_type": "execute_result"
    }
   ],
   "source": [
    "altmetrics = pd.read_csv(\"altmetrics_tabular_uncleaned.csv\", low_memory=False)\n",
    "altmetrics.shape"
   ]
  },
  {
   "cell_type": "code",
   "execution_count": 29,
   "id": "4f364255-e7d7-4301-8fdc-daef0db5a7fe",
   "metadata": {},
   "outputs": [],
   "source": [
    "altmetrics = altmetrics.add_suffix('_altmetrics')"
   ]
  },
  {
   "cell_type": "code",
   "execution_count": 30,
   "id": "f177143a-a9b2-48fc-a4ec-60ac7643ddd7",
   "metadata": {},
   "outputs": [
    {
     "data": {
      "text/plain": [
       "(8306, 74)"
      ]
     },
     "execution_count": 30,
     "metadata": {},
     "output_type": "execute_result"
    }
   ],
   "source": [
    "# drop columns that are either already present in Crossref or are used for identificatoin only, except DOI which is used to merge\n",
    "altmetrics_drops = ['title_altmetrics', 'isbns_altmetrics', 'altmetric_jid_altmetrics', 'issns_altmetrics', 'journal_altmetrics', 'authors_altmetrics', \n",
    "                   'type_altmetrics', 'pubdate_altmetrics', 'epubdate_altmetrics', 'dimensions_publication_id_altmetrics', 'altmetric_id_altmetrics',\n",
    "                   'last_updated_altmetrics', 'added_on_altmetrics', 'published_on_altmetrics', 'images.small_altmetrics', 'images.medium_altmetrics',\n",
    "                    'images.large_altmetrics', 'pmid_altmetrics', 'abstract_altmetrics', 'abstract_source_altmetrics', 'ads_id_altmetrics', 'uri_altmetrics',\n",
    "                    'pmc_altmetrics', 'arxiv_id_altmetrics', 'hlom_id_altmetrics', 'hollis_id_altmetrics'] \n",
    "altmetrics = altmetrics.drop(altmetrics_drops, axis=1)\n",
    "altmetrics.shape"
   ]
  },
  {
   "cell_type": "code",
   "execution_count": 34,
   "id": "4786f7d9-6ae4-418f-a370-dd4f407a1b11",
   "metadata": {},
   "outputs": [
    {
     "data": {
      "text/plain": [
       "(8306, 62)"
      ]
     },
     "execution_count": 34,
     "metadata": {},
     "output_type": "execute_result"
    }
   ],
   "source": [
    "# Dropping these for now, but may include in a future version\n",
    "altmetrics_maybes = ['cohorts_altmetrics', 'handles_altmetrics', 'schema_altmetrics', 'is_oa_altmetrics', 'cohorts.pub_altmetrics', 'cohorts.sci_altmetrics',\n",
    "'cohorts.doc_altmetrics', 'handle_altmetrics', 'editors_altmetrics', 'ordinal_number_altmetrics', 'authors_or_editors_altmetrics', 'attribution_altmetrics']\n",
    "altmetrics = altmetrics.drop(altmetrics_maybes, axis=1)\n",
    "altmetrics.shape"
   ]
  },
  {
   "cell_type": "code",
   "execution_count": 36,
   "id": "fa3bd23d-9831-45be-b136-30b301102b6b",
   "metadata": {},
   "outputs": [],
   "source": [
    "altmetrics = altmetrics.fillna(0)"
   ]
  },
  {
   "cell_type": "code",
   "execution_count": 51,
   "id": "8ada3650-9df8-4303-a283-f2f42306cab5",
   "metadata": {},
   "outputs": [
    {
     "data": {
      "text/plain": [
       "(8173, 62)"
      ]
     },
     "execution_count": 51,
     "metadata": {},
     "output_type": "execute_result"
    }
   ],
   "source": [
    "altmetrics = altmetrics.drop_duplicates('doi_altmetrics')\n",
    "altmetrics.shape"
   ]
  },
  {
   "cell_type": "code",
   "execution_count": 53,
   "id": "510c8990-95fc-4eaf-aad3-641f95235d4b",
   "metadata": {},
   "outputs": [],
   "source": [
    "altmetrics.to_csv(\"altmetrics_tabular_cleaned.csv\")"
   ]
  },
  {
   "cell_type": "code",
   "execution_count": null,
   "id": "77c8e011-a58c-4423-a6cb-f4835383e18c",
   "metadata": {},
   "outputs": [],
   "source": []
  }
 ],
 "metadata": {
  "kernelspec": {
   "display_name": "Python 3 (ipykernel)",
   "language": "python",
   "name": "python3"
  },
  "language_info": {
   "codemirror_mode": {
    "name": "ipython",
    "version": 3
   },
   "file_extension": ".py",
   "mimetype": "text/x-python",
   "name": "python",
   "nbconvert_exporter": "python",
   "pygments_lexer": "ipython3",
   "version": "3.11.5"
  }
 },
 "nbformat": 4,
 "nbformat_minor": 5
}
