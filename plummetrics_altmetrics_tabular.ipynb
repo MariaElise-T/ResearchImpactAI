{
 "cells": [
  {
   "cell_type": "code",
   "execution_count": 1,
   "id": "9061132a-82ae-4c57-9dc5-cda5dbb2833c",
   "metadata": {},
   "outputs": [
    {
     "name": "stderr",
     "output_type": "stream",
     "text": [
      "C:\\Users\\met48\\AppData\\Local\\Temp\\ipykernel_24300\\2245749428.py:2: DeprecationWarning: \n",
      "Pyarrow will become a required dependency of pandas in the next major release of pandas (pandas 3.0),\n",
      "(to allow more performant data types, such as the Arrow string type, and better interoperability with other libraries)\n",
      "but was not found to be installed on your system.\n",
      "If this would cause problems for you,\n",
      "please provide us feedback at https://github.com/pandas-dev/pandas/issues/54466\n",
      "        \n",
      "  import pandas as pd\n"
     ]
    }
   ],
   "source": [
    "import json\n",
    "import pandas as pd\n",
    "import re\n",
    "import ast"
   ]
  },
  {
   "cell_type": "markdown",
   "id": "383f3bfb",
   "metadata": {},
   "source": [
    "# PlumX Metrics"
   ]
  },
  {
   "cell_type": "code",
   "execution_count": 2,
   "id": "b3c0950b-a410-4c1c-aa8d-defa91fb30e4",
   "metadata": {},
   "outputs": [],
   "source": [
    "f = open('plumx_metrics_data.json')\n",
    "data_json = json.load(f)"
   ]
  },
  {
   "cell_type": "code",
   "execution_count": 3,
   "id": "f451818f-c556-4996-9394-1ec5e8d4d94e",
   "metadata": {},
   "outputs": [
    {
     "data": {
      "text/plain": [
       "24521"
      ]
     },
     "execution_count": 3,
     "metadata": {},
     "output_type": "execute_result"
    }
   ],
   "source": [
    "len(data_json)"
   ]
  },
  {
   "cell_type": "code",
   "execution_count": 4,
   "id": "e2ba6524-b084-4ff0-bf93-5eb43b60a4dd",
   "metadata": {},
   "outputs": [],
   "source": [
    "data_flat = pd.DataFrame()\n",
    "for item in data_json:\n",
    "    item_flat =  pd.json_normalize(item)\n",
    "    data_flat = pd.concat([data_flat, item_flat], axis=0, join='outer')"
   ]
  },
  {
   "cell_type": "code",
   "execution_count": 5,
   "id": "c1495b8c-1127-42c5-a7c3-6e8ec1078e2a",
   "metadata": {},
   "outputs": [
    {
     "data": {
      "text/plain": [
       "(24521, 20)"
      ]
     },
     "execution_count": 5,
     "metadata": {},
     "output_type": "execute_result"
    }
   ],
   "source": [
    "data_flat.shape"
   ]
  },
  {
   "cell_type": "code",
   "execution_count": 6,
   "id": "f7effc17-b9a3-407d-b4b4-02fba6a6f577",
   "metadata": {},
   "outputs": [],
   "source": [
    "data_flat.to_csv(\"plumx_metrics_tabular_uncleaned.csv\", index=False)"
   ]
  },
  {
   "cell_type": "markdown",
   "id": "fc1eb3ca",
   "metadata": {},
   "source": [
    "# Altmetrics"
   ]
  },
  {
   "cell_type": "code",
   "execution_count": 7,
   "id": "656e7e1d-3664-444d-bbf0-69c770806474",
   "metadata": {},
   "outputs": [],
   "source": [
    "f = open('altmetric_data.json')\n",
    "altmetrics_corpus = f.read()\n",
    "altmetrics_corpus = altmetrics_corpus.replace('\\\\', '')\n",
    "altmetrics_corpus = altmetrics_corpus.replace(',', ', ')\n",
    "altmetrics_corpus = altmetrics_corpus.replace(':', ': ')\n",
    "altmetrics_corpus = altmetrics_corpus[1:-1]"
   ]
  },
  {
   "cell_type": "code",
   "execution_count": 8,
   "id": "e4622ebd-dc69-48bf-9f7a-0b352d842f2e",
   "metadata": {},
   "outputs": [],
   "source": [
    "index = 0\n",
    "item_start_index = None\n",
    "item_end_index = None\n",
    "total = len(altmetrics_corpus)\n",
    "stack = 0\n",
    "item_indices = list()\n",
    "while(index < total):\n",
    "    if(altmetrics_corpus[index]=='{'):\n",
    "        if(stack == 0): # opening new item \n",
    "            item_start_index = index\n",
    "            stack+=1\n",
    "            index+=1 \n",
    "        else: # nested data within item \n",
    "            stack+=1\n",
    "            index+=1\n",
    "    elif(altmetrics_corpus[index]=='}'):\n",
    "        if(stack == 1): # closing item\n",
    "            item_end_index = index+1\n",
    "            item_indices.append((item_start_index, item_end_index))\n",
    "            stack-=1\n",
    "            index+=1\n",
    "        else: # closing nested data within item\n",
    "            stack-=1\n",
    "            index+=1\n",
    "    else:\n",
    "        index+=1   "
   ]
  },
  {
   "cell_type": "code",
   "execution_count": 9,
   "id": "8c426030",
   "metadata": {},
   "outputs": [
    {
     "data": {
      "text/plain": [
       "8436"
      ]
     },
     "execution_count": 9,
     "metadata": {},
     "output_type": "execute_result"
    }
   ],
   "source": [
    "len(item_indices) # should be 8416"
   ]
  },
  {
   "cell_type": "code",
   "execution_count": 10,
   "id": "160b67aa",
   "metadata": {},
   "outputs": [
    {
     "name": "stdout",
     "output_type": "stream",
     "text": [
      "Unable to parse start index  122038  end index  126578  .\n",
      "Unable to parse start index  183537  end index  186779  .\n",
      "Unable to parse start index  293093  end index  296296  .\n",
      "Unable to parse start index  321897  end index  326099  .\n",
      "Unable to parse start index  737328  end index  740263  .\n",
      "Unable to parse start index  1020341  end index  1024523  .\n",
      "Unable to parse start index  1117830  end index  1122690  .\n",
      "Unable to parse start index  1179242  end index  1183834  .\n",
      "Unable to parse start index  1307301  end index  1310847  .\n",
      "Unable to parse start index  1710827  end index  1714870  .\n",
      "Unable to parse start index  1752149  end index  1755842  .\n",
      "Unable to parse start index  1820636  end index  1824162  .\n",
      "Unable to parse start index  1835807  end index  1839204  .\n",
      "Unable to parse start index  2075248  end index  2084079  .\n",
      "Unable to parse start index  2764540  end index  2769887  .\n",
      "Unable to parse start index  3085783  end index  3088763  .\n",
      "Unable to parse start index  3303248  end index  3306352  .\n",
      "Unable to parse start index  3344958  end index  3348585  .\n",
      "Unable to parse start index  3807839  end index  3811835  .\n",
      "Unable to parse start index  3955345  end index  3957630  .\n",
      "Unable to parse start index  4004561  end index  4007674  .\n",
      "Unable to parse start index  4060135  end index  4063335  .\n",
      "Unable to parse start index  4407220  end index  4410629  .\n",
      "Unable to parse start index  4776655  end index  4779626  .\n",
      "Unable to parse start index  5336305  end index  5339529  .\n",
      "Unable to parse start index  5577790  end index  5581936  .\n",
      "Unable to parse start index  5690327  end index  5693074  .\n",
      "Unable to parse start index  5849361  end index  5853844  .\n",
      "Unable to parse start index  6348868  end index  6352872  .\n",
      "Unable to parse start index  6464260  end index  6467586  .\n",
      "Unable to parse start index  6583375  end index  6586916  .\n",
      "Unable to parse start index  6899380  end index  6902164  .\n",
      "Unable to parse start index  6939875  end index  6943615  .\n",
      "Unable to parse start index  7197963  end index  7202286  .\n",
      "Unable to parse start index  7212751  end index  7216785  .\n",
      "Unable to parse start index  7472239  end index  7475714  .\n",
      "Unable to parse start index  7489422  end index  7492348  .\n",
      "Unable to parse start index  7538120  end index  7542201  .\n",
      "Unable to parse start index  7614362  end index  7618317  .\n",
      "Unable to parse start index  7740743  end index  7744381  .\n",
      "Unable to parse start index  7758994  end index  7762632  .\n",
      "Unable to parse start index  7783662  end index  7787665  .\n",
      "Unable to parse start index  8167354  end index  8170370  .\n",
      "Unable to parse start index  8264901  end index  8268619  .\n",
      "Unable to parse start index  8358399  end index  8363051  .\n",
      "Unable to parse start index  8366327  end index  8369108  .\n",
      "Unable to parse start index  8611708  end index  8615607  .\n",
      "Unable to parse start index  8675329  end index  8677918  .\n",
      "Unable to parse start index  8779214  end index  8782083  .\n",
      "Unable to parse start index  8913546  end index  8916864  .\n",
      "Unable to parse start index  8938421  end index  8942098  .\n",
      "Unable to parse start index  8947462  end index  8951156  .\n",
      "Unable to parse start index  9132798  end index  9136361  .\n",
      "Unable to parse start index  9321141  end index  9325085  .\n",
      "Unable to parse start index  9365248  end index  9368536  .\n",
      "Unable to parse start index  9463363  end index  9466766  .\n",
      "Unable to parse start index  9494173  end index  9497536  .\n",
      "Unable to parse start index  9533992  end index  9537152  .\n",
      "Unable to parse start index  10120738  end index  10123945  .\n",
      "Unable to parse start index  10183389  end index  10187219  .\n",
      "Unable to parse start index  10380038  end index  10383619  .\n",
      "Unable to parse start index  10383621  end index  10387202  .\n",
      "Unable to parse start index  10471667  end index  10474634  .\n",
      "Unable to parse start index  10510927  end index  10514498  .\n",
      "Unable to parse start index  10567397  end index  10570745  .\n",
      "Unable to parse start index  10626925  end index  10630506  .\n",
      "Unable to parse start index  10793112  end index  10796538  .\n",
      "Unable to parse start index  10825242  end index  10828811  .\n",
      "Unable to parse start index  10997947  end index  11002006  .\n",
      "Unable to parse start index  11074272  end index  11077175  .\n",
      "Unable to parse start index  11144123  end index  11147334  .\n",
      "Unable to parse start index  11318159  end index  11321567  .\n",
      "Unable to parse start index  11417190  end index  11420437  .\n",
      "Unable to parse start index  11422341  end index  11425742  .\n",
      "Unable to parse start index  11578021  end index  11582100  .\n",
      "Unable to parse start index  11586381  end index  11589411  .\n",
      "Unable to parse start index  11596062  end index  11598979  .\n",
      "Unable to parse start index  11744937  end index  11748350  .\n",
      "Unable to parse start index  11761136  end index  11763002  .\n",
      "Unable to parse start index  11855350  end index  11858270  .\n",
      "Unable to parse start index  11942638  end index  11947374  .\n",
      "Unable to parse start index  11954668  end index  11957789  .\n",
      "Unable to parse start index  12109704  end index  12113925  .\n",
      "Unable to parse start index  12118074  end index  12121338  .\n",
      "Unable to parse start index  12157863  end index  12161813  .\n",
      "Unable to parse start index  12198779  end index  12202367  .\n",
      "Unable to parse start index  12391289  end index  12395313  .\n",
      "Unable to parse start index  12397215  end index  12400405  .\n",
      "Unable to parse start index  12430320  end index  12434421  .\n",
      "Unable to parse start index  12479563  end index  12482683  .\n",
      "Unable to parse start index  12482685  end index  12486742  .\n",
      "Unable to parse start index  12632171  end index  12635958  .\n",
      "Unable to parse start index  12830812  end index  12833492  .\n",
      "Unable to parse start index  13015075  end index  13018445  .\n",
      "Unable to parse start index  13131731  end index  13135374  .\n",
      "Unable to parse start index  13151467  end index  13154265  .\n",
      "Unable to parse start index  13213561  end index  13216457  .\n",
      "Unable to parse start index  13222788  end index  13227689  .\n",
      "Unable to parse start index  13563113  end index  13567242  .\n",
      "Unable to parse start index  13725387  end index  13729080  .\n",
      "Unable to parse start index  13805639  end index  13808628  .\n",
      "Unable to parse start index  14005115  end index  14008709  .\n",
      "Unable to parse start index  14036181  end index  14039739  .\n",
      "Unable to parse start index  14068281  end index  14071735  .\n",
      "Unable to parse start index  14238910  end index  14242004  .\n",
      "Unable to parse start index  14644374  end index  14647970  .\n",
      "Unable to parse start index  15765348  end index  15766557  .\n",
      "Unable to parse start index  16642864  end index  16646294  .\n",
      "Unable to parse start index  17999600  end index  18003762  .\n",
      "Error count:  109\n"
     ]
    }
   ],
   "source": [
    "data_flat = pd.DataFrame()\n",
    "error_count = 0\n",
    "for item in item_indices:\n",
    "    text = altmetrics_corpus[item[0]:item[1]]\n",
    "    try:\n",
    "        item_dict = json.loads(text)\n",
    "        item_flat =  pd.json_normalize(item_dict)\n",
    "        data_flat = pd.concat([data_flat, item_flat], axis=0, join='outer')\n",
    "    except:\n",
    "        print(\"Unable to parse start index \", item[0], \" end index \", item[1], \" .\")\n",
    "        error_count +=1\n",
    "print(\"Error count: \", error_count)"
   ]
  },
  {
   "cell_type": "markdown",
   "id": "d9a5f0a6",
   "metadata": {},
   "source": [
    "We will ignore the parsing errors for now.  They appear to be caused by the use of quotation marks in the abstract and 110 (1.3%) samples are affected. This will be addressed in a later update."
   ]
  },
  {
   "cell_type": "code",
   "execution_count": 11,
   "id": "951f6876",
   "metadata": {},
   "outputs": [
    {
     "data": {
      "text/plain": [
       "(8327, 100)"
      ]
     },
     "execution_count": 11,
     "metadata": {},
     "output_type": "execute_result"
    }
   ],
   "source": [
    "data_flat.shape"
   ]
  },
  {
   "cell_type": "code",
   "execution_count": 12,
   "id": "50639ad5",
   "metadata": {},
   "outputs": [],
   "source": [
    "data_flat.to_csv(\"altmetrics_tabular_uncleaned.csv\", index=False)"
   ]
  }
 ],
 "metadata": {
  "kernelspec": {
   "display_name": "Python 3 (ipykernel)",
   "language": "python",
   "name": "python3"
  },
  "language_info": {
   "codemirror_mode": {
    "name": "ipython",
    "version": 3
   },
   "file_extension": ".py",
   "mimetype": "text/x-python",
   "name": "python",
   "nbconvert_exporter": "python",
   "pygments_lexer": "ipython3",
   "version": "3.11.5"
  }
 },
 "nbformat": 4,
 "nbformat_minor": 5
}
