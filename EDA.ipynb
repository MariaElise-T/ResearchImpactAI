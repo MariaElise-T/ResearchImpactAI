{
 "cells": [
  {
   "cell_type": "code",
   "execution_count": 3,
   "id": "557d8ef4-d3e7-4410-acec-850adde97979",
   "metadata": {},
   "outputs": [
    {
     "name": "stdout",
     "output_type": "stream",
     "text": [
      "\n",
      "📏 Descriptive Statistics:\n"
     ]
    }
   ],
   "source": [
    "import pandas as pd\n",
    "import numpy as np\n",
    "import matplotlib.pyplot as plt\n",
    "import seaborn as sns\n",
    "import os\n",
    "\n",
    "# === Load data ===\n",
    "df = pd.read_csv(\"allsources_percentiles.csv\")\n",
    "\n",
    "# === Output directory ===\n",
    "output_dir = \"eda_output\"\n",
    "os.makedirs(output_dir, exist_ok=True)\n",
    "\n",
    "print(\"\\n📏 Descriptive Statistics:\")\n",
    "summary = df.describe().T\n",
    "summary[\"skew\"] = df.skew(numeric_only=True)\n",
    "summary[\"kurtosis\"] = df.kurtosis(numeric_only=True)\n",
    "summary.to_csv(f\"{output_dir}/descriptive_stats.csv\")"
   ]
  },
  {
   "cell_type": "code",
   "execution_count": 4,
   "id": "74a385db-8d2d-40e3-a1ff-64ab293660ee",
   "metadata": {},
   "outputs": [
    {
     "name": "stdout",
     "output_type": "stream",
     "text": [
      "\n",
      "📊 Generating histograms...\n"
     ]
    }
   ],
   "source": [
    "# === Histograms for all numeric columns ===\n",
    "print(\"\\n📊 Generating histograms...\")\n",
    "for col in df.select_dtypes(include=np.number).columns:\n",
    "    plt.figure()\n",
    "    sns.histplot(df[col].dropna(), kde=True, bins=30)\n",
    "    plt.title(f\"Histogram: {col}\")\n",
    "    plt.xlabel(col)\n",
    "    plt.ylabel(\"Count\")\n",
    "    plt.tight_layout()\n",
    "    plt.savefig(f\"{output_dir}/hist_{col}.png\")\n",
    "    plt.close()"
   ]
  },
  {
   "cell_type": "code",
   "execution_count": 5,
   "id": "e2329be1-287e-4c1e-b6d3-8a85707425b7",
   "metadata": {},
   "outputs": [
    {
     "name": "stdout",
     "output_type": "stream",
     "text": [
      "\n",
      "📈 Generating correlation heatmap...\n"
     ]
    }
   ],
   "source": [
    "# === Correlation matrix ===\n",
    "print(\"\\n📈 Generating correlation heatmap...\")\n",
    "plt.figure(figsize=(10, 8))\n",
    "corr = df.corr(numeric_only=True)\n",
    "sns.heatmap(corr, cmap=\"coolwarm\", annot=True, fmt=\".2f\", square=True)\n",
    "plt.title(\"Correlation Matrix\")\n",
    "plt.tight_layout()\n",
    "plt.savefig(f\"{output_dir}/correlation_matrix.png\")\n",
    "plt.close()"
   ]
  },
  {
   "cell_type": "code",
   "execution_count": null,
   "id": "aae2ab32-f0c5-4794-bc31-dcc2b31b9177",
   "metadata": {},
   "outputs": [],
   "source": [
    "# === Pairplot of top 5 most skewed features ===\n",
    "print(\"\\n🔎 Plotting most skewed features...\")\n",
    "top_skewed = summary[\"skew\"].abs().sort_values(ascending=False).head(5).index.tolist()\n",
    "sns.pairplot(df[top_skewed].dropna(), diag_kind=\"kde\")\n",
    "plt.savefig(f\"{output_dir}/pairplot_top_skewed.png\")\n",
    "plt.close()"
   ]
  },
  {
   "cell_type": "code",
   "execution_count": null,
   "id": "7efddd19-7ab8-4fb2-9136-9243c8154ec3",
   "metadata": {},
   "outputs": [],
   "source": [
    "# === Boxplots for outlier inspection ===\n",
    "print(\"\\n📦 Generating boxplots for outlier inspection...\")\n",
    "for col in top_skewed:\n",
    "    plt.figure()\n",
    "    sns.boxplot(x=df[col])\n",
    "    plt.title(f\"Boxplot: {col}\")\n",
    "    plt.tight_layout()\n",
    "    plt.savefig(f\"{output_dir}/box_{col}.png\")\n",
    "    plt.close()\n",
    "\n",
    "print(\"\\n✅ EDA complete! Results saved to:\", output_dir)"
   ]
  },
  {
   "cell_type": "code",
   "execution_count": 7,
   "id": "7690a3bb-4ff9-4376-b1b6-2847070cb149",
   "metadata": {},
   "outputs": [
    {
     "name": "stdout",
     "output_type": "stream",
     "text": [
      "\n",
      "📊 Generating histogram grid...\n",
      "✅ Saved: eda_output/histogram_grid_appendix.png\n"
     ]
    }
   ],
   "source": [
    "# === Multi-panel histogram grid for appendix ===\n",
    "print(\"\\n📊 Generating histogram grid...\")\n",
    "\n",
    "numeric_cols = df.select_dtypes(include=np.number).columns\n",
    "n_cols = 4  # 4 plots per row\n",
    "n_rows = int(np.ceil(len(numeric_cols) / n_cols))\n",
    "\n",
    "fig, axes = plt.subplots(n_rows, n_cols, figsize=(n_cols * 4, n_rows * 3))\n",
    "axes = axes.flatten()\n",
    "\n",
    "for i, col in enumerate(numeric_cols):\n",
    "    sns.histplot(df[col].dropna(), kde=True, bins=30, ax=axes[i])\n",
    "    axes[i].set_title(col)\n",
    "    axes[i].set_xlabel(\"\")\n",
    "    axes[i].set_ylabel(\"\")\n",
    "\n",
    "# Turn off any unused subplots\n",
    "for j in range(i + 1, len(axes)):\n",
    "    axes[j].axis(\"off\")\n",
    "\n",
    "plt.tight_layout()\n",
    "plt.savefig(f\"{output_dir}/histogram_grid_appendix.png\", dpi=300)\n",
    "plt.close()\n",
    "print(f\"✅ Saved: {output_dir}/histogram_grid_appendix.png\")"
   ]
  },
  {
   "cell_type": "code",
   "execution_count": 8,
   "id": "dbd1d1db-2865-49d2-aa8c-a85bbce8e30c",
   "metadata": {},
   "outputs": [
    {
     "name": "stdout",
     "output_type": "stream",
     "text": [
      "\n",
      "📊 Generating histogram grid (excluding 'year' columns)...\n",
      "✅ Saved: eda_output/histogram_grid_appendix.png\n"
     ]
    }
   ],
   "source": [
    "# === Multi-panel histogram grid for appendix (excluding 'year') ===\n",
    "print(\"\\n📊 Generating histogram grid (excluding 'year' columns)...\")\n",
    "\n",
    "# Filter out columns containing 'year'\n",
    "numeric_cols = [\n",
    "    col for col in df.select_dtypes(include=np.number).columns\n",
    "    if \"year\" not in col.lower()\n",
    "]\n",
    "\n",
    "n_cols = 4  # 4 plots per row\n",
    "n_rows = int(np.ceil(len(numeric_cols) / n_cols))\n",
    "\n",
    "fig, axes = plt.subplots(n_rows, n_cols, figsize=(n_cols * 4, n_rows * 3))\n",
    "axes = axes.flatten()\n",
    "\n",
    "for i, col in enumerate(numeric_cols):\n",
    "    sns.histplot(df[col].dropna(), kde=True, bins=30, ax=axes[i])\n",
    "    axes[i].set_title(col)\n",
    "    axes[i].set_xlabel(\"\")\n",
    "    axes[i].set_ylabel(\"\")\n",
    "\n",
    "# Turn off unused subplots\n",
    "for j in range(i + 1, len(axes)):\n",
    "    axes[j].axis(\"off\")\n",
    "\n",
    "plt.tight_layout()\n",
    "plt.savefig(f\"{output_dir}/histogram_grid_appendix.png\", dpi=300)\n",
    "plt.close()\n",
    "print(f\"✅ Saved: {output_dir}/histogram_grid_appendix.png\")\n"
   ]
  },
  {
   "cell_type": "code",
   "execution_count": 9,
   "id": "55a7c457-cc92-4b80-b9b0-60f29d81f1b2",
   "metadata": {},
   "outputs": [
    {
     "name": "stdout",
     "output_type": "stream",
     "text": [
      "\n",
      "📊 Plotting skew and kurtosis bar charts...\n",
      "✅ Saved: eda_output/skewness_barplot.png and kurtosis_barplot.png\n"
     ]
    }
   ],
   "source": [
    "# === Bar charts for skew and kurtosis (excluding 'year') ===\n",
    "print(\"\\n📊 Plotting skew and kurtosis bar charts...\")\n",
    "\n",
    "# Select relevant numeric columns\n",
    "numeric_cols = [\n",
    "    col for col in df.select_dtypes(include=np.number).columns\n",
    "    if \"year\" not in col.lower()\n",
    "]\n",
    "\n",
    "# Compute skew and kurtosis\n",
    "skew_vals = df[numeric_cols].skew(numeric_only=True)\n",
    "kurtosis_vals = df[numeric_cols].kurtosis(numeric_only=True)\n",
    "\n",
    "# Plot skewness\n",
    "plt.figure(figsize=(10, 6))\n",
    "sns.barplot(x=skew_vals.index, y=skew_vals.values)\n",
    "plt.xticks(rotation=90)\n",
    "plt.ylabel(\"Skewness\")\n",
    "plt.title(\"Skewness of Numeric Variables (excluding 'year')\")\n",
    "plt.axhline(0, color='gray', linestyle='--')\n",
    "plt.tight_layout()\n",
    "plt.savefig(f\"{output_dir}/skewness_barplot.png\", dpi=300)\n",
    "plt.close()\n",
    "\n",
    "# Plot kurtosis\n",
    "plt.figure(figsize=(10, 6))\n",
    "sns.barplot(x=kurtosis_vals.index, y=kurtosis_vals.values)\n",
    "plt.xticks(rotation=90)\n",
    "plt.ylabel(\"Kurtosis\")\n",
    "plt.title(\"Kurtosis of Numeric Variables (excluding 'year')\")\n",
    "plt.axhline(0, color='gray', linestyle='--')\n",
    "plt.tight_layout()\n",
    "plt.savefig(f\"{output_dir}/kurtosis_barplot.png\", dpi=300)\n",
    "plt.close()\n",
    "\n",
    "print(f\"✅ Saved: {output_dir}/skewness_barplot.png and kurtosis_barplot.png\")\n"
   ]
  },
  {
   "cell_type": "code",
   "execution_count": 10,
   "id": "3b75a6a2-d028-48a0-8bd9-b93055be5ce1",
   "metadata": {},
   "outputs": [
    {
     "name": "stdout",
     "output_type": "stream",
     "text": [
      "\n",
      "📊 Plotting skew and kurtosis (log y-axis, shortened labels)...\n",
      "✅ Saved: eda_output/skewness_barplot_log.png and kurtosis_barplot_log.png\n"
     ]
    }
   ],
   "source": [
    "print(\"\\n📊 Plotting skew and kurtosis (log y-axis, shortened labels)...\")\n",
    "\n",
    "# Keep numeric columns excluding 'year'\n",
    "numeric_cols = [\n",
    "    col for col in df.select_dtypes(include=np.number).columns\n",
    "    if \"year\" not in col.lower()\n",
    "]\n",
    "\n",
    "# Compute skew and kurtosis\n",
    "skew_vals = df[numeric_cols].skew(numeric_only=True)\n",
    "kurt_vals = df[numeric_cols].kurtosis(numeric_only=True)\n",
    "\n",
    "# Shorten variable names for display\n",
    "def shorten(name, max_len=12):\n",
    "    return name if len(name) <= max_len else name[:max_len-3] + \"...\"\n",
    "\n",
    "short_names = [shorten(name) for name in skew_vals.index]\n",
    "\n",
    "# --- Skewness Plot ---\n",
    "plt.figure(figsize=(10, 6))\n",
    "sns.barplot(x=short_names, y=np.abs(skew_vals.values))  # use absolute skew\n",
    "plt.yscale('log')\n",
    "plt.xticks(rotation=90)\n",
    "plt.ylabel(\"Absolute Skew (log scale)\")\n",
    "plt.title(\"Skewness of Numeric Variables\")\n",
    "plt.tight_layout()\n",
    "plt.savefig(f\"{output_dir}/skewness_barplot_log.png\", dpi=300)\n",
    "plt.close()\n",
    "\n",
    "# --- Kurtosis Plot ---\n",
    "plt.figure(figsize=(10, 6))\n",
    "sns.barplot(x=short_names, y=np.abs(kurt_vals.values))  # use absolute kurtosis\n",
    "plt.yscale('log')\n",
    "plt.xticks(rotation=90)\n",
    "plt.ylabel(\"Absolute Kurtosis (log scale)\")\n",
    "plt.title(\"Kurtosis of Numeric Variables\")\n",
    "plt.tight_layout()\n",
    "plt.savefig(f\"{output_dir}/kurtosis_barplot_log.png\", dpi=300)\n",
    "plt.close()\n",
    "\n",
    "print(f\"✅ Saved: {output_dir}/skewness_barplot_log.png and kurtosis_barplot_log.png\")"
   ]
  },
  {
   "cell_type": "code",
   "execution_count": 13,
   "id": "4b88d9ea-a600-444a-96c2-ba018f804945",
   "metadata": {},
   "outputs": [
    {
     "name": "stdout",
     "output_type": "stream",
     "text": [
      "\n",
      "📊 Plotting skew and kurtosis (log y-axis, full variable names)...\n",
      "✅ Saved: eda_output/skewness_barplot_log_fullnames.png and kurtosis_barplot_log_fullnames.png\n"
     ]
    }
   ],
   "source": [
    "print(\"\\n📊 Plotting skew and kurtosis (log y-axis, full variable names)...\")\n",
    "\n",
    "# Numeric columns excluding 'year'\n",
    "numeric_cols = [\n",
    "    col for col in df.select_dtypes(include=np.number).columns\n",
    "    if \"year\" not in col.lower()\n",
    "]\n",
    "\n",
    "# Compute skew and kurtosis\n",
    "skew_vals = df[numeric_cols].skew(numeric_only=True)\n",
    "kurt_vals = df[numeric_cols].kurtosis(numeric_only=True)\n",
    "\n",
    "# --- Skewness Plot ---\n",
    "plt.figure(figsize=(max(10, len(numeric_cols) * 0.4), 6))\n",
    "sns.barplot(x=skew_vals.index, y=np.abs(skew_vals.values))\n",
    "plt.yscale('log')\n",
    "plt.xticks(rotation=90)\n",
    "plt.ylabel(\"Absolute Skew (log scale)\")\n",
    "plt.title(\"Skewness of Numeric Variables\")\n",
    "plt.tight_layout()\n",
    "plt.savefig(f\"{output_dir}/skewness_barplot_log_fullnames.png\", dpi=300)\n",
    "plt.close()\n",
    "\n",
    "# --- Kurtosis Plot ---\n",
    "plt.figure(figsize=(max(10, len(numeric_cols) * 0.4), 6))\n",
    "sns.barplot(x=kurt_vals.index, y=np.abs(kurt_vals.values))\n",
    "plt.yscale('log')\n",
    "plt.xticks(rotation=90)\n",
    "plt.ylabel(\"Absolute Kurtosis (log scale)\")\n",
    "plt.title(\"Kurtosis of Numeric Variables\")\n",
    "plt.tight_layout()\n",
    "plt.savefig(f\"{output_dir}/kurtosis_barplot_log_fullnames.png\", dpi=300)\n",
    "plt.close()\n",
    "\n",
    "print(f\"✅ Saved: {output_dir}/skewness_barplot_log_fullnames.png and kurtosis_barplot_log_fullnames.png\")"
   ]
  },
  {
   "cell_type": "code",
   "execution_count": null,
   "id": "69961eb9-3ebd-40c5-9954-c9615b15bbf8",
   "metadata": {},
   "outputs": [],
   "source": []
  }
 ],
 "metadata": {
  "kernelspec": {
   "display_name": "Python 3 (ipykernel)",
   "language": "python",
   "name": "python3"
  },
  "language_info": {
   "codemirror_mode": {
    "name": "ipython",
    "version": 3
   },
   "file_extension": ".py",
   "mimetype": "text/x-python",
   "name": "python",
   "nbconvert_exporter": "python",
   "pygments_lexer": "ipython3",
   "version": "3.12.7"
  }
 },
 "nbformat": 4,
 "nbformat_minor": 5
}
