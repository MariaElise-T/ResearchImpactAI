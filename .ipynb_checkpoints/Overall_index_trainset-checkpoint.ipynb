{
 "cells": [
  {
   "cell_type": "code",
   "execution_count": 132,
   "id": "5ce6f4ee-9272-4519-9b51-ef5af3b9e77e",
   "metadata": {},
   "outputs": [],
   "source": [
    "import pandas as pd\n",
    "import seaborn as sns\n",
    "import math\n",
    "import numpy as np\n",
    "pd.options.mode.chained_assignment = None"
   ]
  },
  {
   "cell_type": "code",
   "execution_count": 133,
   "id": "36e3f1ef-9041-4484-896e-1cd891ea123c",
   "metadata": {},
   "outputs": [],
   "source": [
    "merge = pd.read_csv('allsources_percentiles.csv')"
   ]
  },
  {
   "cell_type": "code",
   "execution_count": 134,
   "id": "3adeb5bb-03b1-491c-8089-232806b856ef",
   "metadata": {},
   "outputs": [
    {
     "name": "stdout",
     "output_type": "stream",
     "text": [
      "<class 'pandas.core.frame.DataFrame'>\n",
      "RangeIndex: 25000 entries, 0 to 24999\n",
      "Data columns (total 37 columns):\n",
      " #   Column                                                 Non-Null Count  Dtype  \n",
      "---  ------                                                 --------------  -----  \n",
      " 0   Authors                                                25000 non-null  object \n",
      " 1   Title                                                  25000 non-null  object \n",
      " 2   Year                                                   25000 non-null  int64  \n",
      " 3   Source                                                 25000 non-null  object \n",
      " 4   ArticleURL                                             25000 non-null  object \n",
      " 5   DOI                                                    25000 non-null  object \n",
      " 6   Cites                                                  25000 non-null  float64\n",
      " 7   capture.READER_COUNT_plumx                             25000 non-null  float64\n",
      " 8   citation.Scopus_plumx                                  25000 non-null  float64\n",
      " 9   citation.CrossRef_plumx                                25000 non-null  float64\n",
      " 10  citation.Academic Citation Index (ACI) - airiti_plumx  25000 non-null  float64\n",
      " 11  citation.PubMed_plumx                                  25000 non-null  float64\n",
      " 12  mention.ABSTRACT_VIEWS_plumx                           25000 non-null  float64\n",
      " 13  mention.DOWNLOAD_COUNT_plumx                           25000 non-null  float64\n",
      " 14  mention.FULL_TEXT_VIEWS_plumx                          25000 non-null  float64\n",
      " 15  capture.EXPORTS_SAVES_plumx                            25000 non-null  float64\n",
      " 16  readers.citeulike_altmetrics                           25000 non-null  float64\n",
      " 17  readers.mendeley_altmetrics                            25000 non-null  float64\n",
      " 18  readers.connotea_altmetrics                            25000 non-null  float64\n",
      " 19  readers_count_altmetrics                               25000 non-null  float64\n",
      " 20  cited_by_posts_count_altmetrics                        25000 non-null  float64\n",
      " 21  cited_by_accounts_count_altmetrics                     25000 non-null  float64\n",
      " 22  cited_by_tweeters_count_altmetrics                     25000 non-null  float64\n",
      " 23  mention.FACEBOOK_COUNT_plumx                           25000 non-null  float64\n",
      " 24  cited_by_fbwalls_count_altmetrics                      25000 non-null  float64\n",
      " 25  cited_by_videos_count_altmetrics                       25000 non-null  float64\n",
      " 26  cited_by_feeds_count_altmetrics                        25000 non-null  float64\n",
      " 27  cited_by_linkedin_count_altmetrics                     25000 non-null  float64\n",
      " 28  cited_by_weibo_count_altmetrics                        25000 non-null  float64\n",
      " 29  cited_by_msm_count_altmetrics                          25000 non-null  float64\n",
      " 30  mention.NEWS_COUNT_plumx                               25000 non-null  float64\n",
      " 31  cited_by_patents_count_altmetrics                      25000 non-null  float64\n",
      " 32  citation.Patent Families_plumx                         25000 non-null  float64\n",
      " 33  citation.Policy Citation_plumx                         25000 non-null  float64\n",
      " 34  cited_by_policies_count_altmetrics                     25000 non-null  float64\n",
      " 35  impact_factor                                          25000 non-null  float64\n",
      " 36  cited_by_wikipedia_count_altmetrics                    25000 non-null  float64\n",
      "dtypes: float64(31), int64(1), object(5)\n",
      "memory usage: 7.1+ MB\n"
     ]
    }
   ],
   "source": [
    "merge.info()"
   ]
  },
  {
   "cell_type": "markdown",
   "id": "2ef7e90d-57c7-4821-89f0-1ff9c6e29f6a",
   "metadata": {},
   "source": [
    "# Bibliometric index"
   ]
  },
  {
   "cell_type": "code",
   "execution_count": 135,
   "id": "a514175c-6a8e-49cb-8d6b-4a04074a96dc",
   "metadata": {},
   "outputs": [],
   "source": [
    "cites_mean = (merge['citation.Scopus_plumx']+merge['citation.CrossRef_plumx']+merge['citation.Academic Citation Index (ACI) - airiti_plumx']+merge['citation.PubMed_plumx'])/4\n",
    "engagement_mean = (merge['capture.READER_COUNT_plumx']+merge['mention.ABSTRACT_VIEWS_plumx']+merge['mention.DOWNLOAD_COUNT_plumx']+merge['mention.FULL_TEXT_VIEWS_plumx']+merge['capture.EXPORTS_SAVES_plumx']+merge['readers.citeulike_altmetrics']+merge['readers.mendeley_altmetrics']+merge['readers.connotea_altmetrics']+merge['readers_count_altmetrics'])/9\n",
    "biblio_mean = 0.5*cites_mean+0.5*engagement_mean\n",
    "biblio_index = biblio_mean.rank(pct=True) "
   ]
  },
  {
   "cell_type": "code",
   "execution_count": 136,
   "id": "9793c184-6f15-43c5-a1dc-3aa5f8ab607b",
   "metadata": {},
   "outputs": [
    {
     "data": {
      "text/plain": [
       "<Axes: >"
      ]
     },
     "execution_count": 136,
     "metadata": {},
     "output_type": "execute_result"
    },
    {
     "data": {
      "image/png": "[encoded data removed]",
      "text/plain": [
       "<Figure size 640x480 with 1 Axes>"
      ]
     },
     "metadata": {},
     "output_type": "display_data"
    }
   ],
   "source": [
    "biblio_index.hist()"
   ]
  },
  {
   "cell_type": "markdown",
   "id": "250d0c83-e9be-467c-9de3-5d1eb56c8554",
   "metadata": {},
   "source": [
    "# Social Media "
   ]
  },
  {
   "cell_type": "code",
   "execution_count": 137,
   "id": "1f0d8f73-46bb-4eba-9ea6-d7072f0c3813",
   "metadata": {},
   "outputs": [],
   "source": [
    "sm_mean = (merge['cited_by_posts_count_altmetrics']+merge['cited_by_accounts_count_altmetrics']+merge['cited_by_tweeters_count_altmetrics']+\n",
    "           merge['mention.FACEBOOK_COUNT_plumx']+merge['cited_by_fbwalls_count_altmetrics']+merge['cited_by_linkedin_count_altmetrics']+\n",
    "           merge['cited_by_weibo_count_altmetrics'])/7\n",
    "sm_index = sm_mean.rank(pct=True)"
   ]
  },
  {
   "cell_type": "code",
   "execution_count": 138,
   "id": "f88ca295-485f-4a37-adde-1c9e5bdf7b45",
   "metadata": {},
   "outputs": [
    {
     "data": {
      "text/plain": [
       "<Axes: >"
      ]
     },
     "execution_count": 138,
     "metadata": {},
     "output_type": "execute_result"
    },
    {
     "data": {
      "image/png": "[encoded data removed]",
      "text/plain": [
       "<Figure size 640x480 with 1 Axes>"
      ]
     },
     "metadata": {},
     "output_type": "display_data"
    }
   ],
   "source": [
    "sm_index.hist()"
   ]
  },
  {
   "cell_type": "markdown",
   "id": "07b6362f-ecdd-4900-b56c-dfb8848c33fb",
   "metadata": {},
   "source": [
    "# News Media"
   ]
  },
  {
   "cell_type": "code",
   "execution_count": 139,
   "id": "86d2ee66-55f2-4b65-b41e-879da72c034c",
   "metadata": {},
   "outputs": [],
   "source": [
    "nm_mean = (merge['cited_by_msm_count_altmetrics']+merge['mention.NEWS_COUNT_plumx'])/2\n",
    "nm_index = nm_mean.rank(pct=True)"
   ]
  },
  {
   "cell_type": "code",
   "execution_count": 140,
   "id": "16827889-111b-4ab6-a818-4ff661c11a52",
   "metadata": {},
   "outputs": [
    {
     "data": {
      "text/plain": [
       "<Axes: >"
      ]
     },
     "execution_count": 140,
     "metadata": {},
     "output_type": "execute_result"
    },
    {
     "data": {
      "image/png": "[encoded data removed]",
      "text/plain": [
       "<Figure size 640x480 with 1 Axes>"
      ]
     },
     "metadata": {},
     "output_type": "display_data"
    }
   ],
   "source": [
    "nm_index.hist()"
   ]
  },
  {
   "cell_type": "markdown",
   "id": "6a81a6c1-a832-42e6-b56c-79cad0e36cbd",
   "metadata": {},
   "source": [
    "# Patents"
   ]
  },
  {
   "cell_type": "code",
   "execution_count": 141,
   "id": "aa784e33-079c-4842-9db5-1da986be5b93",
   "metadata": {},
   "outputs": [],
   "source": [
    "patent_mean = (merge['cited_by_patents_count_altmetrics']+merge['citation.Patent Families_plumx'])/2\n",
    "patent_index = patent_mean.rank(pct=True)"
   ]
  },
  {
   "cell_type": "code",
   "execution_count": 142,
   "id": "ab64e1c4-3ab0-4090-82cb-8d05e6af2196",
   "metadata": {},
   "outputs": [
    {
     "data": {
      "text/plain": [
       "<Axes: >"
      ]
     },
     "execution_count": 142,
     "metadata": {},
     "output_type": "execute_result"
    },
    {
     "data": {
      "image/png": "[encoded data removed]",
      "text/plain": [
       "<Figure size 640x480 with 1 Axes>"
      ]
     },
     "metadata": {},
     "output_type": "display_data"
    }
   ],
   "source": [
    "patent_index.hist()"
   ]
  },
  {
   "cell_type": "markdown",
   "id": "34cddc43-c739-4dd2-949d-94add28c101e",
   "metadata": {},
   "source": [
    "# Policies"
   ]
  },
  {
   "cell_type": "code",
   "execution_count": 143,
   "id": "afc93ec8-fa14-4e18-a46d-5ceb0c9b0e82",
   "metadata": {},
   "outputs": [],
   "source": [
    "policy_mean = (merge['citation.Policy Citation_plumx']+merge['cited_by_policies_count_altmetrics'])/2\n",
    "policy_index = policy_mean.rank(pct=True)"
   ]
  },
  {
   "cell_type": "code",
   "execution_count": 144,
   "id": "6e29ed27-1a8a-455c-aeff-86ce1c2a12e5",
   "metadata": {},
   "outputs": [
    {
     "data": {
      "text/plain": [
       "<Axes: >"
      ]
     },
     "execution_count": 144,
     "metadata": {},
     "output_type": "execute_result"
    },
    {
     "data": {
      "image/png": "[encoded data removed]",
      "text/plain": [
       "<Figure size 640x480 with 1 Axes>"
      ]
     },
     "metadata": {},
     "output_type": "display_data"
    }
   ],
   "source": [
    "policy_index.hist()"
   ]
  },
  {
   "cell_type": "markdown",
   "id": "374c26a9-0a23-4d95-9313-858343d202e9",
   "metadata": {},
   "source": [
    "# Journal Impact Factor"
   ]
  },
  {
   "cell_type": "code",
   "execution_count": 145,
   "id": "d4177f0c-efce-4f9e-807a-6f16a81bc2e1",
   "metadata": {},
   "outputs": [],
   "source": [
    "jif_index = merge['impact_factor']"
   ]
  },
  {
   "cell_type": "code",
   "execution_count": 146,
   "id": "280a993a-7b36-4c49-93c9-48cacf4aca50",
   "metadata": {},
   "outputs": [
    {
     "data": {
      "text/plain": [
       "<Axes: >"
      ]
     },
     "execution_count": 146,
     "metadata": {},
     "output_type": "execute_result"
    },
    {
     "data": {
      "image/png": "[encoded data removed]",
      "text/plain": [
       "<Figure size 640x480 with 1 Axes>"
      ]
     },
     "metadata": {},
     "output_type": "display_data"
    }
   ],
   "source": [
    "jif_index.hist()"
   ]
  },
  {
   "cell_type": "markdown",
   "id": "2f2ae02a-5b6b-468c-95ed-a4f0a34f3c7b",
   "metadata": {},
   "source": [
    "# Misc"
   ]
  },
  {
   "cell_type": "code",
   "execution_count": 147,
   "id": "a7de6d67-8f33-4ddc-9613-754f0c4e7ca2",
   "metadata": {},
   "outputs": [],
   "source": [
    "misc_mean = (merge['cited_by_feeds_count_altmetrics']+merge['cited_by_videos_count_altmetrics']+merge['cited_by_wikipedia_count_altmetrics'])/3\n",
    "misc_index = misc_mean.rank(pct=True)"
   ]
  },
  {
   "cell_type": "code",
   "execution_count": 148,
   "id": "e125c4ea-ad50-45b5-bfd8-1feacd0f144f",
   "metadata": {},
   "outputs": [
    {
     "data": {
      "text/plain": [
       "<Axes: >"
      ]
     },
     "execution_count": 148,
     "metadata": {},
     "output_type": "execute_result"
    },
    {
     "data": {
      "image/png": "[encoded data removed]",
      "text/plain": [
       "<Figure size 640x480 with 1 Axes>"
      ]
     },
     "metadata": {},
     "output_type": "display_data"
    }
   ],
   "source": [
    "misc_index.hist()"
   ]
  },
  {
   "cell_type": "markdown",
   "id": "a16d4dfa-166c-4d19-a50f-6c145177d6a9",
   "metadata": {},
   "source": [
    "# Overall Index"
   ]
  },
  {
   "cell_type": "code",
   "execution_count": 149,
   "id": "89567d1c-c0a9-4c28-8119-f5c5ada3fc4a",
   "metadata": {},
   "outputs": [],
   "source": [
    "overall_mean = 0.5*biblio_index+0.1*sm_index+0.1*nm_index+0.1*patent_index+0.1*policy_index+0.05*jif_index+0.05*misc_index\n",
    "overall_index = overall_mean.rank(pct=True)"
   ]
  },
  {
   "cell_type": "code",
   "execution_count": 150,
   "id": "54825bd2-f6b7-41f3-b99f-5eb8e333abf0",
   "metadata": {},
   "outputs": [
    {
     "data": {
      "text/plain": [
       "<Axes: >"
      ]
     },
     "execution_count": 150,
     "metadata": {},
     "output_type": "execute_result"
    },
    {
     "data": {
      "image/png": "[encoded data removed]",
      "text/plain": [
       "<Figure size 640x480 with 1 Axes>"
      ]
     },
     "metadata": {},
     "output_type": "display_data"
    }
   ],
   "source": [
    "overall_index.hist()"
   ]
  },
  {
   "cell_type": "code",
   "execution_count": 151,
   "id": "39427d18-3cec-412c-85a4-ef0cb905abb0",
   "metadata": {},
   "outputs": [
    {
     "data": {
      "text/plain": [
       "0        0.24000\n",
       "1        0.70292\n",
       "2        0.54496\n",
       "3        0.69140\n",
       "4        0.54124\n",
       "          ...   \n",
       "24995    0.77032\n",
       "24996    0.57812\n",
       "24997    0.09896\n",
       "24998    0.58864\n",
       "24999    0.39304\n",
       "Length: 25000, dtype: float64"
      ]
     },
     "execution_count": 151,
     "metadata": {},
     "output_type": "execute_result"
    }
   ],
   "source": [
    "overall_index"
   ]
  },
  {
   "cell_type": "code",
   "execution_count": 152,
   "id": "719e1671-0176-4dc2-bf69-9cb026e26b4c",
   "metadata": {},
   "outputs": [],
   "source": [
    "final_indices_df = merge[['Authors', 'Title', 'Year', 'Source', 'ArticleURL', 'DOI']]\n",
    "final_indices_df['biblio_index'] = biblio_index\n",
    "final_indices_df['sm_index'] = sm_index\n",
    "final_indices_df['nm_index'] = nm_index\n",
    "final_indices_df['patent_index'] = patent_index\n",
    "final_indices_df['policy_index'] = policy_index\n",
    "final_indices_df['jif_index'] = jif_index\n",
    "final_indices_df['misc_index'] = misc_index\n",
    "final_indices_df['overall_index'] = overall_index"
   ]
  },
  {
   "cell_type": "code",
   "execution_count": 153,
   "id": "0f15b6b5-d5bb-47da-b800-75e30a755383",
   "metadata": {},
   "outputs": [
    {
     "data": {
      "text/html": [
       "<div>\n",
       "<style scoped>\n",
       "    .dataframe tbody tr th:only-of-type {\n",
       "        vertical-align: middle;\n",
       "    }\n",
       "\n",
       "    .dataframe tbody tr th {\n",
       "        vertical-align: top;\n",
       "    }\n",
       "\n",
       "    .dataframe thead th {\n",
       "        text-align: right;\n",
       "    }\n",
       "</style>\n",
       "<table border=\"1\" class=\"dataframe\">\n",
       "  <thead>\n",
       "    <tr style=\"text-align: right;\">\n",
       "      <th></th>\n",
       "      <th>Authors</th>\n",
       "      <th>Title</th>\n",
       "      <th>Year</th>\n",
       "      <th>Source</th>\n",
       "      <th>ArticleURL</th>\n",
       "      <th>DOI</th>\n",
       "      <th>biblio_index</th>\n",
       "      <th>sm_index</th>\n",
       "      <th>nm_index</th>\n",
       "      <th>patent_index</th>\n",
       "      <th>policy_index</th>\n",
       "      <th>jif_index</th>\n",
       "      <th>misc_index</th>\n",
       "      <th>overall_index</th>\n",
       "    </tr>\n",
       "  </thead>\n",
       "  <tbody>\n",
       "    <tr>\n",
       "      <th>0</th>\n",
       "      <td>K. P. Wiederhold, Y. Yamaguchi, A. Ayala, M. M...</td>\n",
       "      <td>Ti/TiN coatings for microfabricated cantilever...</td>\n",
       "      <td>2000</td>\n",
       "      <td>Journal of Vacuum Science &amp;amp; Technology B: ...</td>\n",
       "      <td>http://dx.doi.org/10.1116/1.591356</td>\n",
       "      <td>10.1116/1.591356</td>\n",
       "      <td>0.26776</td>\n",
       "      <td>0.32452</td>\n",
       "      <td>0.46426</td>\n",
       "      <td>0.45980</td>\n",
       "      <td>0.44932</td>\n",
       "      <td>0.22798</td>\n",
       "      <td>0.4688</td>\n",
       "      <td>0.24000</td>\n",
       "    </tr>\n",
       "    <tr>\n",
       "      <th>1</th>\n",
       "      <td>Carolyn A. Marr, Linda French, Donna Thompson,...</td>\n",
       "      <td>Animal-Assisted Therapy in Psychiatric Rehabil...</td>\n",
       "      <td>2000</td>\n",
       "      <td>Anthrozoös</td>\n",
       "      <td>http://dx.doi.org/10.2752/089279300786999950</td>\n",
       "      <td>10.2752/089279300786999950</td>\n",
       "      <td>0.80500</td>\n",
       "      <td>0.32452</td>\n",
       "      <td>0.46426</td>\n",
       "      <td>0.45980</td>\n",
       "      <td>0.44932</td>\n",
       "      <td>0.22798</td>\n",
       "      <td>0.4688</td>\n",
       "      <td>0.70292</td>\n",
       "    </tr>\n",
       "    <tr>\n",
       "      <th>2</th>\n",
       "      <td>Shiela J. Heater, Mary W. Carrano, Douglas Rai...</td>\n",
       "      <td>Interaction of Oxo-Bridged Vanadium(III) Phena...</td>\n",
       "      <td>2000</td>\n",
       "      <td>Inorganic Chemistry</td>\n",
       "      <td>http://dx.doi.org/10.1021/ic000389r</td>\n",
       "      <td>10.1021/ic000389r</td>\n",
       "      <td>0.57924</td>\n",
       "      <td>0.32452</td>\n",
       "      <td>0.46426</td>\n",
       "      <td>0.45980</td>\n",
       "      <td>0.44932</td>\n",
       "      <td>0.62266</td>\n",
       "      <td>0.4688</td>\n",
       "      <td>0.54496</td>\n",
       "    </tr>\n",
       "    <tr>\n",
       "      <th>3</th>\n",
       "      <td>Walter E. Rudzinski, Tejraj M. Aminabhavi, Ste...</td>\n",
       "      <td>Isolation and Characterization of the Saturate...</td>\n",
       "      <td>2000</td>\n",
       "      <td>Energy &amp;amp; Fuels</td>\n",
       "      <td>http://dx.doi.org/10.1021/ef990207h</td>\n",
       "      <td>10.1021/ef990207h</td>\n",
       "      <td>0.61360</td>\n",
       "      <td>0.72520</td>\n",
       "      <td>0.46426</td>\n",
       "      <td>0.95104</td>\n",
       "      <td>0.44932</td>\n",
       "      <td>0.22798</td>\n",
       "      <td>0.4688</td>\n",
       "      <td>0.69140</td>\n",
       "    </tr>\n",
       "    <tr>\n",
       "      <th>4</th>\n",
       "      <td>John P Tiefenbacher, Frederick A Day, Joseph A...</td>\n",
       "      <td>Attributes of repeat visitors to small tourist...</td>\n",
       "      <td>2000</td>\n",
       "      <td>The Social Science Journal</td>\n",
       "      <td>http://dx.doi.org/10.1016/s0362-3319(00)00063-x</td>\n",
       "      <td>10.1016/s0362-3319(00)00063-x</td>\n",
       "      <td>0.52436</td>\n",
       "      <td>0.32452</td>\n",
       "      <td>0.46426</td>\n",
       "      <td>0.45980</td>\n",
       "      <td>0.89942</td>\n",
       "      <td>0.22798</td>\n",
       "      <td>0.4688</td>\n",
       "      <td>0.54124</td>\n",
       "    </tr>\n",
       "    <tr>\n",
       "      <th>...</th>\n",
       "      <td>...</td>\n",
       "      <td>...</td>\n",
       "      <td>...</td>\n",
       "      <td>...</td>\n",
       "      <td>...</td>\n",
       "      <td>...</td>\n",
       "      <td>...</td>\n",
       "      <td>...</td>\n",
       "      <td>...</td>\n",
       "      <td>...</td>\n",
       "      <td>...</td>\n",
       "      <td>...</td>\n",
       "      <td>...</td>\n",
       "      <td>...</td>\n",
       "    </tr>\n",
       "    <tr>\n",
       "      <th>24995</th>\n",
       "      <td>Nancy R. Downing, Katherine N. Scafide, Zahra ...</td>\n",
       "      <td>Visibility of inflicted bruises by alternate l...</td>\n",
       "      <td>2024</td>\n",
       "      <td>Journal of Forensic Sciences</td>\n",
       "      <td>http://dx.doi.org/10.1111/1556-4029.15481</td>\n",
       "      <td>10.1111/1556-4029.15481</td>\n",
       "      <td>0.70406</td>\n",
       "      <td>0.93204</td>\n",
       "      <td>0.46426</td>\n",
       "      <td>0.45980</td>\n",
       "      <td>0.44932</td>\n",
       "      <td>0.93574</td>\n",
       "      <td>0.4688</td>\n",
       "      <td>0.77032</td>\n",
       "    </tr>\n",
       "    <tr>\n",
       "      <th>24996</th>\n",
       "      <td>Atin Pramanik, Preeti Lata Mahapatra, Raphael ...</td>\n",
       "      <td>Biotene: Earth-Abundant 2D Material as Sustain...</td>\n",
       "      <td>2024</td>\n",
       "      <td>ACS Applied Materials &amp;amp; Interfaces</td>\n",
       "      <td>http://dx.doi.org/10.1021/acsami.3c15664</td>\n",
       "      <td>10.1021/acsami.3c15664</td>\n",
       "      <td>0.54408</td>\n",
       "      <td>0.89164</td>\n",
       "      <td>0.46426</td>\n",
       "      <td>0.45980</td>\n",
       "      <td>0.44932</td>\n",
       "      <td>0.22798</td>\n",
       "      <td>0.4688</td>\n",
       "      <td>0.57812</td>\n",
       "    </tr>\n",
       "    <tr>\n",
       "      <th>24997</th>\n",
       "      <td>Mei-ki Chan, Aprile D. Benner</td>\n",
       "      <td>A consideration of racial/ethnic diversity con...</td>\n",
       "      <td>2024</td>\n",
       "      <td>Educational Psychologist</td>\n",
       "      <td>http://dx.doi.org/10.1080/00461520.2024.2376020</td>\n",
       "      <td>10.1080/00461520.2024.2376020</td>\n",
       "      <td>0.04150</td>\n",
       "      <td>0.32452</td>\n",
       "      <td>0.46426</td>\n",
       "      <td>0.45980</td>\n",
       "      <td>0.44932</td>\n",
       "      <td>0.99484</td>\n",
       "      <td>0.4688</td>\n",
       "      <td>0.09896</td>\n",
       "    </tr>\n",
       "    <tr>\n",
       "      <th>24998</th>\n",
       "      <td>Brian M. Casey, Lisa Mele, Alan M. Peaceman, M...</td>\n",
       "      <td>Association of Mild Iodine Insufficiency durin...</td>\n",
       "      <td>2024</td>\n",
       "      <td>American Journal of Perinatology</td>\n",
       "      <td>http://dx.doi.org/10.1055/s-0043-1778037</td>\n",
       "      <td>10.1055/s-0043-1778037</td>\n",
       "      <td>0.30208</td>\n",
       "      <td>0.77624</td>\n",
       "      <td>0.96586</td>\n",
       "      <td>0.45980</td>\n",
       "      <td>0.95728</td>\n",
       "      <td>0.96558</td>\n",
       "      <td>0.4688</td>\n",
       "      <td>0.58864</td>\n",
       "    </tr>\n",
       "    <tr>\n",
       "      <th>24999</th>\n",
       "      <td>Contessa A. Ricci, Benjamin Crysup, Nicole R. ...</td>\n",
       "      <td>Machine Learning: a new era for cardiovascular...</td>\n",
       "      <td>2024</td>\n",
       "      <td>American Journal of Physiology-Heart and Circu...</td>\n",
       "      <td>http://dx.doi.org/10.1152/ajpheart.00149.2024</td>\n",
       "      <td>10.1152/ajpheart.00149.2024</td>\n",
       "      <td>0.25616</td>\n",
       "      <td>0.89164</td>\n",
       "      <td>0.46426</td>\n",
       "      <td>0.45980</td>\n",
       "      <td>0.44932</td>\n",
       "      <td>0.98592</td>\n",
       "      <td>0.4688</td>\n",
       "      <td>0.39304</td>\n",
       "    </tr>\n",
       "  </tbody>\n",
       "</table>\n",
       "<p>25000 rows × 14 columns</p>\n",
       "</div>"
      ],
      "text/plain": [
       "                                                 Authors  \\\n",
       "0      K. P. Wiederhold, Y. Yamaguchi, A. Ayala, M. M...   \n",
       "1      Carolyn A. Marr, Linda French, Donna Thompson,...   \n",
       "2      Shiela J. Heater, Mary W. Carrano, Douglas Rai...   \n",
       "3      Walter E. Rudzinski, Tejraj M. Aminabhavi, Ste...   \n",
       "4      John P Tiefenbacher, Frederick A Day, Joseph A...   \n",
       "...                                                  ...   \n",
       "24995  Nancy R. Downing, Katherine N. Scafide, Zahra ...   \n",
       "24996  Atin Pramanik, Preeti Lata Mahapatra, Raphael ...   \n",
       "24997                      Mei-ki Chan, Aprile D. Benner   \n",
       "24998  Brian M. Casey, Lisa Mele, Alan M. Peaceman, M...   \n",
       "24999  Contessa A. Ricci, Benjamin Crysup, Nicole R. ...   \n",
       "\n",
       "                                                   Title  Year  \\\n",
       "0      Ti/TiN coatings for microfabricated cantilever...  2000   \n",
       "1      Animal-Assisted Therapy in Psychiatric Rehabil...  2000   \n",
       "2      Interaction of Oxo-Bridged Vanadium(III) Phena...  2000   \n",
       "3      Isolation and Characterization of the Saturate...  2000   \n",
       "4      Attributes of repeat visitors to small tourist...  2000   \n",
       "...                                                  ...   ...   \n",
       "24995  Visibility of inflicted bruises by alternate l...  2024   \n",
       "24996  Biotene: Earth-Abundant 2D Material as Sustain...  2024   \n",
       "24997  A consideration of racial/ethnic diversity con...  2024   \n",
       "24998  Association of Mild Iodine Insufficiency durin...  2024   \n",
       "24999  Machine Learning: a new era for cardiovascular...  2024   \n",
       "\n",
       "                                                  Source  \\\n",
       "0      Journal of Vacuum Science &amp; Technology B: ...   \n",
       "1                                             Anthrozoös   \n",
       "2                                    Inorganic Chemistry   \n",
       "3                                     Energy &amp; Fuels   \n",
       "4                             The Social Science Journal   \n",
       "...                                                  ...   \n",
       "24995                       Journal of Forensic Sciences   \n",
       "24996             ACS Applied Materials &amp; Interfaces   \n",
       "24997                           Educational Psychologist   \n",
       "24998                   American Journal of Perinatology   \n",
       "24999  American Journal of Physiology-Heart and Circu...   \n",
       "\n",
       "                                            ArticleURL  \\\n",
       "0                   http://dx.doi.org/10.1116/1.591356   \n",
       "1         http://dx.doi.org/10.2752/089279300786999950   \n",
       "2                  http://dx.doi.org/10.1021/ic000389r   \n",
       "3                  http://dx.doi.org/10.1021/ef990207h   \n",
       "4      http://dx.doi.org/10.1016/s0362-3319(00)00063-x   \n",
       "...                                                ...   \n",
       "24995        http://dx.doi.org/10.1111/1556-4029.15481   \n",
       "24996         http://dx.doi.org/10.1021/acsami.3c15664   \n",
       "24997  http://dx.doi.org/10.1080/00461520.2024.2376020   \n",
       "24998         http://dx.doi.org/10.1055/s-0043-1778037   \n",
       "24999    http://dx.doi.org/10.1152/ajpheart.00149.2024   \n",
       "\n",
       "                                 DOI  biblio_index  sm_index  nm_index  \\\n",
       "0                   10.1116/1.591356       0.26776   0.32452   0.46426   \n",
       "1         10.2752/089279300786999950       0.80500   0.32452   0.46426   \n",
       "2                  10.1021/ic000389r       0.57924   0.32452   0.46426   \n",
       "3                  10.1021/ef990207h       0.61360   0.72520   0.46426   \n",
       "4      10.1016/s0362-3319(00)00063-x       0.52436   0.32452   0.46426   \n",
       "...                              ...           ...       ...       ...   \n",
       "24995        10.1111/1556-4029.15481       0.70406   0.93204   0.46426   \n",
       "24996         10.1021/acsami.3c15664       0.54408   0.89164   0.46426   \n",
       "24997  10.1080/00461520.2024.2376020       0.04150   0.32452   0.46426   \n",
       "24998         10.1055/s-0043-1778037       0.30208   0.77624   0.96586   \n",
       "24999    10.1152/ajpheart.00149.2024       0.25616   0.89164   0.46426   \n",
       "\n",
       "       patent_index  policy_index  jif_index  misc_index  overall_index  \n",
       "0           0.45980       0.44932    0.22798      0.4688        0.24000  \n",
       "1           0.45980       0.44932    0.22798      0.4688        0.70292  \n",
       "2           0.45980       0.44932    0.62266      0.4688        0.54496  \n",
       "3           0.95104       0.44932    0.22798      0.4688        0.69140  \n",
       "4           0.45980       0.89942    0.22798      0.4688        0.54124  \n",
       "...             ...           ...        ...         ...            ...  \n",
       "24995       0.45980       0.44932    0.93574      0.4688        0.77032  \n",
       "24996       0.45980       0.44932    0.22798      0.4688        0.57812  \n",
       "24997       0.45980       0.44932    0.99484      0.4688        0.09896  \n",
       "24998       0.45980       0.95728    0.96558      0.4688        0.58864  \n",
       "24999       0.45980       0.44932    0.98592      0.4688        0.39304  \n",
       "\n",
       "[25000 rows x 14 columns]"
      ]
     },
     "execution_count": 153,
     "metadata": {},
     "output_type": "execute_result"
    }
   ],
   "source": [
    "final_indices_df"
   ]
  },
  {
   "cell_type": "code",
   "execution_count": 154,
   "id": "2141310f-c52f-4a39-89f8-ba5660c2e272",
   "metadata": {},
   "outputs": [],
   "source": [
    "final_indices_df.to_csv(\"final_indices_df.csv\", index=False)"
   ]
  },
  {
   "cell_type": "code",
   "execution_count": null,
   "id": "cd81e01a-8803-4ac9-9595-77e0584980e9",
   "metadata": {},
   "outputs": [],
   "source": []
  },
  {
   "cell_type": "code",
   "execution_count": null,
   "id": "30636884-6c23-4372-a9c0-2c85e708fa65",
   "metadata": {},
   "outputs": [],
   "source": []
  }
 ],
 "metadata": {
  "kernelspec": {
   "display_name": "Python 3 (ipykernel)",
   "language": "python",
   "name": "python3"
  },
  "language_info": {
   "codemirror_mode": {
    "name": "ipython",
    "version": 3
   },
   "file_extension": ".py",
   "mimetype": "text/x-python",
   "name": "python",
   "nbconvert_exporter": "python",
   "pygments_lexer": "ipython3",
   "version": "3.11.5"
  }
 },
 "nbformat": 4,
 "nbformat_minor": 5
}
