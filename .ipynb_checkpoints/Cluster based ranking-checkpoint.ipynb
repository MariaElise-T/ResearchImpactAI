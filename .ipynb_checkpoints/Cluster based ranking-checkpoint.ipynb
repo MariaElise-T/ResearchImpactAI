{
 "cells": [
  {
   "cell_type": "code",
   "execution_count": 2,
   "id": "59073840-9109-495e-b11a-aed01cbfbacf",
   "metadata": {},
   "outputs": [],
   "source": [
    "import numpy as np\n",
    "import pandas as pd\n",
    "from sklearn.cluster import KMeans\n",
    "from sklearn.preprocessing import QuantileTransformer\n",
    "from tqdm import tqdm\n",
    "\n",
    "def cluster_based_ranking(df, n_clusters=3, weights=None, show_progress=True):\n",
    "    \"\"\"\n",
    "    Cluster-based ranking for tabular data.\n",
    "\n",
    "    Args:\n",
    "        df: DataFrame of features (higher = better)\n",
    "        n_clusters: number of clusters\n",
    "        weights: optional array of weights per column\n",
    "        show_progress: whether to show tqdm progress bar\n",
    "\n",
    "    Returns:\n",
    "        DataFrame with cluster labels, scores, and ranks\n",
    "    \"\"\"\n",
    "    X = df.values\n",
    "    n_features = X.shape[1]\n",
    "\n",
    "    # Step 1: Normalize skewed data (QuantileTransform handles heavy tails well)\n",
    "    if show_progress:\n",
    "        print(\"Normalizing data...\")\n",
    "    qt = QuantileTransformer(output_distribution=\"normal\", random_state=42)\n",
    "    X_scaled = qt.fit_transform(X)\n",
    "\n",
    "    # Step 2: Apply weights (default: equal)\n",
    "    if weights is None:\n",
    "        weights = np.ones(n_features)\n",
    "    weights = weights / np.sum(weights)\n",
    "\n",
    "    # Step 3: KMeans clustering\n",
    "    if show_progress:\n",
    "        print(f\"Clustering into {n_clusters} groups...\")\n",
    "    kmeans = KMeans(n_clusters=n_clusters, random_state=42, n_init=\"auto\")\n",
    "    cluster_labels = kmeans.fit_predict(X_scaled)\n",
    "\n",
    "    # Step 4: Score clusters by centroid's weighted sum\n",
    "    centroids = kmeans.cluster_centers_\n",
    "    centroid_scores = centroids @ weights  # (n_clusters, )\n",
    "\n",
    "    # Step 5: Rank clusters from best to worst\n",
    "    cluster_order = np.argsort(-centroid_scores)  # higher = better\n",
    "    cluster_rank_map = {cluster: rank for rank, cluster in enumerate(cluster_order)}\n",
    "\n",
    "    # Step 6: Assign rank to each row based on its cluster\n",
    "    row_ranks = np.array([cluster_rank_map[label] for label in cluster_labels])\n",
    "\n",
    "    return pd.DataFrame({\n",
    "        \"cluster\": cluster_labels,\n",
    "        \"cluster_score\": [centroid_scores[label] for label in cluster_labels],\n",
    "        \"rank\": row_ranks\n",
    "    }, index=df.index)\n",
    "\n"
   ]
  },
  {
   "cell_type": "code",
   "execution_count": 3,
   "id": "1b5b0f6c-2f84-4b25-bcd7-326a7295fa44",
   "metadata": {},
   "outputs": [
    {
     "name": "stdout",
     "output_type": "stream",
     "text": [
      "Normalizing data...\n",
      "Clustering into 10 groups...\n"
     ]
    },
    {
     "name": "stderr",
     "output_type": "stream",
     "text": [
      "C:\\Users\\met48\\AppData\\Local\\anaconda3\\Lib\\site-packages\\joblib\\externals\\loky\\backend\\context.py:136: UserWarning: Could not find the number of physical cores for the following reason:\n",
      "[WinError 2] The system cannot find the file specified\n",
      "Returning the number of logical cores instead. You can silence this warning by setting LOKY_MAX_CPU_COUNT to the number of cores you want to use.\n",
      "  warnings.warn(\n",
      "  File \"C:\\Users\\met48\\AppData\\Local\\anaconda3\\Lib\\site-packages\\joblib\\externals\\loky\\backend\\context.py\", line 257, in _count_physical_cores\n",
      "    cpu_info = subprocess.run(\n",
      "               ^^^^^^^^^^^^^^^\n",
      "  File \"C:\\Users\\met48\\AppData\\Local\\anaconda3\\Lib\\subprocess.py\", line 548, in run\n",
      "    with Popen(*popenargs, **kwargs) as process:\n",
      "         ^^^^^^^^^^^^^^^^^^^^^^^^^^^\n",
      "  File \"C:\\Users\\met48\\AppData\\Local\\anaconda3\\Lib\\subprocess.py\", line 1026, in __init__\n",
      "    self._execute_child(args, executable, preexec_fn, close_fds,\n",
      "  File \"C:\\Users\\met48\\AppData\\Local\\anaconda3\\Lib\\subprocess.py\", line 1538, in _execute_child\n",
      "    hp, ht, pid, tid = _winapi.CreateProcess(executable, args,\n",
      "                       ^^^^^^^^^^^^^^^^^^^^^^^^^^^^^^^^^^^^^^^\n"
     ]
    },
    {
     "name": "stdout",
     "output_type": "stream",
     "text": [
      "       cluster  cluster_score  rank\n",
      "0            2      -4.538440     6\n",
      "1            2      -4.538440     6\n",
      "2            4      -4.099552     4\n",
      "3            6      -2.914991     1\n",
      "4            3      -2.995402     2\n",
      "...        ...            ...   ...\n",
      "24995        3      -2.995402     2\n",
      "24996        7      -3.658146     3\n",
      "24997        9      -4.853149     8\n",
      "24998        7      -3.658146     3\n",
      "24999        7      -3.658146     3\n",
      "\n",
      "[25000 rows x 3 columns]\n"
     ]
    }
   ],
   "source": [
    "df = pd.read_csv(\"allsources_percentiles.csv\")\n",
    "ranked_df = cluster_based_ranking(df.iloc[:,6:], n_clusters=10)\n",
    "print(ranked_df)"
   ]
  },
  {
   "cell_type": "code",
   "execution_count": 4,
   "id": "b85f0445-5f0e-45ff-b9c0-9e5b1869a20d",
   "metadata": {},
   "outputs": [],
   "source": [
    "df_with_cluster_info = pd.concat([df, ranked_df[[\"cluster\", \"cluster_score\", \"rank\"]]], axis=1)"
   ]
  },
  {
   "cell_type": "code",
   "execution_count": 7,
   "id": "d1363329-a965-42af-8533-991bbbe26d16",
   "metadata": {},
   "outputs": [],
   "source": [
    "df_with_cluster_info.to_csv('df_with_cluster_info.csv', index=False)"
   ]
  },
  {
   "cell_type": "code",
   "execution_count": null,
   "id": "f2065963-bd5d-4d22-8f70-85959a473f15",
   "metadata": {},
   "outputs": [],
   "source": []
  }
 ],
 "metadata": {
  "kernelspec": {
   "display_name": "Python 3 (ipykernel)",
   "language": "python",
   "name": "python3"
  },
  "language_info": {
   "codemirror_mode": {
    "name": "ipython",
    "version": 3
   },
   "file_extension": ".py",
   "mimetype": "text/x-python",
   "name": "python",
   "nbconvert_exporter": "python",
   "pygments_lexer": "ipython3",
   "version": "3.12.7"
  }
 },
 "nbformat": 4,
 "nbformat_minor": 5
}
