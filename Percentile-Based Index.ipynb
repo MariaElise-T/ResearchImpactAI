{
 "cells": [
  {
   "cell_type": "code",
   "execution_count": 2,
   "id": "57c73c45",
   "metadata": {},
   "outputs": [
    {
     "name": "stderr",
     "output_type": "stream",
     "text": [
      "C:\\Users\\met48\\AppData\\Local\\Temp\\ipykernel_14128\\3620371138.py:1: DeprecationWarning: \n",
      "Pyarrow will become a required dependency of pandas in the next major release of pandas (pandas 3.0),\n",
      "(to allow more performant data types, such as the Arrow string type, and better interoperability with other libraries)\n",
      "but was not found to be installed on your system.\n",
      "If this would cause problems for you,\n",
      "please provide us feedback at https://github.com/pandas-dev/pandas/issues/54466\n",
      "        \n",
      "  import pandas as pd\n"
     ]
    }
   ],
   "source": [
    "import pandas as pd\n",
    "import seaborn as sns\n",
    "import math\n",
    "import numpy as np"
   ]
  },
  {
   "cell_type": "code",
   "execution_count": 3,
   "id": "6ad90a7b",
   "metadata": {},
   "outputs": [],
   "source": [
    "merge = pd.read_csv('allsources_merge.csv')"
   ]
  },
  {
   "cell_type": "code",
   "execution_count": 5,
   "id": "349cf818-37ba-4278-b401-992ca000340e",
   "metadata": {},
   "outputs": [],
   "source": [
    "merge_index = pd.DataFrame()"
   ]
  },
  {
   "cell_type": "code",
   "execution_count": 7,
   "id": "fac548dd-94fa-46d0-9349-323b18eae50f",
   "metadata": {},
   "outputs": [],
   "source": [
    "def age_adjust_and_index(col_name):\n",
    "    new_col = col_name + \"_per_year\"\n",
    "    merge[new_col] = merge[col_name]/merge[\"Age\"]\n",
    "    merge_index[col_name] = merge.Cites_per_year.rank(pct = True)"
   ]
  },
  {
   "attachments": {},
   "cell_type": "markdown",
   "id": "ada46fa5",
   "metadata": {},
   "source": [
    "# Bibliometrics section - Citations (all sources averaged) - 50%, engagement (abstract views, downloads, full text views, readers) - 50%\n",
    "Variables:\n",
    "- Cites \n",
    "- capture.READER_COUNT_plumx\n",
    "- citation.Scopus_plumx\n",
    "- citation.CrossRef_plumx\n",
    "- citation.Academic Citation Index (ACI) - airiti_plumx\n",
    "- citation.PubMed_plumx\n",
    "- mention.ABSTRACT_VIEWS_plumx\n",
    "- mention.DOWNLOAD_COUNT_plumx\n",
    "- mention.FULL_TEXT_VIEWS_plumx\n",
    "- capture.EXPORTS_SAVES_plumx\n",
    "- readers.citeulike_altmetrics\n",
    "- readers.mendeley_altmetrics\n",
    "- readers.connotea_altmetrics\n",
    "- readers_count_altmetrics"
   ]
  },
  {
   "cell_type": "code",
   "execution_count": 10,
   "id": "ae98d0fb-7d85-42ee-8172-8be3fdf85548",
   "metadata": {},
   "outputs": [],
   "source": [
    "age_adjust_and_index(\"Cites\")\n",
    "age_adjust_and_index(\"capture.READER_COUNT_plumx\")\n",
    "age_adjust_and_index(\"citation.Scopus_plumx\")\n",
    "age_adjust_and_index(\"citation.CrossRef_plumx\")\n",
    "age_adjust_and_index(\"citation.Academic Citation Index (ACI) - airiti_plumx\")\n",
    "age_adjust_and_index(\"citation.PubMed_plumx\")\n",
    "age_adjust_and_index(\"mention.ABSTRACT_VIEWS_plumx\")\n",
    "age_adjust_and_index(\"mention.DOWNLOAD_COUNT_plumx\")\n",
    "age_adjust_and_index(\"mention.FULL_TEXT_VIEWS_plumx\")\n",
    "age_adjust_and_index(\"capture.EXPORTS_SAVES_plumx\")\n",
    "age_adjust_and_index(\"readers.citeulike_altmetrics\")\n",
    "age_adjust_and_index(\"readers.mendeley_altmetrics\")\n",
    "age_adjust_and_index(\"readers.connotea_altmetrics\")\n",
    "age_adjust_and_index(\"readers_count_altmetrics\")"
   ]
  },
  {
   "cell_type": "code",
   "execution_count": 32,
   "id": "ca5c81da",
   "metadata": {},
   "outputs": [],
   "source": [
    "merge_index[\"index_bibliometrics\"] = 0.5*()+0.5*()"
   ]
  },
  {
   "cell_type": "markdown",
   "id": "b1de65e2",
   "metadata": {},
   "source": [
    "# Social media\n",
    "Variables:\n",
    "- cited_by_posts_count_altmetrics\n",
    "- cited_by_accounts_count_altmetrics\n",
    "- cited_by_tweeters_count_altmetrics\n",
    "- mention.FACEBOOK_COUNT_plumx\n",
    "- cited_by_fbwalls_count_altmetrics\n",
    "- cited_by_videos_count_altmetrics\n",
    "- cited_by_feeds_count_altmetrics\n",
    "- cited_by_linkedin_count_altmetrics\n",
    "- cited_by_weibo_count_altmetrics"
   ]
  },
  {
   "cell_type": "code",
   "execution_count": 34,
   "id": "af488e1f",
   "metadata": {},
   "outputs": [],
   "source": [
    "age_adjust_and_index(\"cited_by_posts_count_altmetrics\")\n",
    "age_adjust_and_index(\"cited_by_accounts_count_altmetrics\")\n",
    "age_adjust_and_index(\"cited_by_tweeters_count_altmetrics\")\n",
    "age_adjust_and_index(\"mention.FACEBOOK_COUNT_plumx\")\n",
    "age_adjust_and_index(\"cited_by_fbwalls_count_altmetrics\")\n",
    "age_adjust_and_index(\"cited_by_videos_count_altmetrics\")\n",
    "age_adjust_and_index(\"cited_by_feeds_count_altmetrics\")\n",
    "age_adjust_and_index(\"cited_by_linkedin_count_altmetrics\")\n",
    "age_adjust_and_index(\"cited_by_weibo_count_altmetrics\")"
   ]
  },
  {
   "cell_type": "code",
   "execution_count": 35,
   "id": "65a8abd4",
   "metadata": {},
   "outputs": [],
   "source": [
    "merge_index[\"index_social_media\"] = (1/3)*+(1/3)*+(1/3)*"
   ]
  },
  {
   "cell_type": "markdown",
   "id": "e1757cb2",
   "metadata": {},
   "source": [
    "# News media  \n",
    "Variables:\n",
    "- cited_by_msm_count_altmetrics\n",
    "- mention.NEWS_COUNT_plumx"
   ]
  },
  {
   "cell_type": "code",
   "execution_count": 37,
   "id": "5c857c11",
   "metadata": {},
   "outputs": [],
   "source": [
    "age_adjust_and_index(\"cited_by_msm_count_altmetrics\")\n",
    "age_adjust_and_index(\"mention.NEWS_COUNT_plumx\")"
   ]
  },
  {
   "cell_type": "markdown",
   "id": "e8510147",
   "metadata": {},
   "source": [
    "# Patents\n",
    "Variables:\n",
    "- cited_by_patents_count_altmetrics\n",
    "- citation.Patent Families_plumx"
   ]
  },
  {
   "cell_type": "code",
   "execution_count": 41,
   "id": "871a0273",
   "metadata": {},
   "outputs": [],
   "source": [
    "age_adjust_and_index(\"cited_by_patents_count_altmetrics\")\n",
    "age_adjust_and_index(\"citation.Patent Families_plumx\")"
   ]
  },
  {
   "cell_type": "markdown",
   "id": "67e6c266",
   "metadata": {},
   "source": [
    "# Policies\n",
    "Variables:\n",
    "- citation.Policy Citation_plumx\n",
    "- cited_by_policies_count_altmetrics"
   ]
  },
  {
   "cell_type": "code",
   "execution_count": 42,
   "id": "efebcaa5",
   "metadata": {},
   "outputs": [],
   "source": [
    "age_adjust_and_index(\"citation.Policy Citation_plumx\")\n",
    "age_adjust_and_index(\"cited_by_policies_count_altmetrics\")"
   ]
  },
  {
   "cell_type": "markdown",
   "id": "08f63288-e3e4-4084-8f7d-8308b61a9ab1",
   "metadata": {},
   "source": [
    "# Journal Impact Factor\n",
    "Variables:\n",
    "- impact_factor"
   ]
  },
  {
   "cell_type": "code",
   "execution_count": null,
   "id": "6652c457-6620-4874-8aea-21f37c41a17c",
   "metadata": {},
   "outputs": [],
   "source": [
    "age_adjust_and_index(\"impact_factor\")"
   ]
  },
  {
   "cell_type": "markdown",
   "id": "36d48600-f381-4a68-a655-d742678d7956",
   "metadata": {},
   "source": [
    "# Miscellaneous\n",
    "Variables:\n",
    "-\n",
    "-\n",
    "-"
   ]
  },
  {
   "cell_type": "markdown",
   "id": "523d03df",
   "metadata": {},
   "source": [
    "# Overall - 24% bibliometrics, 15% social media, 15% news media, 23% patents, 23% policies, 10% journal impact factor"
   ]
  },
  {
   "cell_type": "code",
   "execution_count": 44,
   "id": "23a1027e",
   "metadata": {},
   "outputs": [],
   "source": [
    "merge[\"overall_index\"] = 0.24*merge[\"index_bibliometrics\"]+0.15*merge[\"index_social_media\"]+0.15*merge['news_index']+0.23*merge['patent_index']+0.23*merge['policies_index']\n"
   ]
  },
  {
   "cell_type": "code",
   "execution_count": 46,
   "id": "d7008fbf",
   "metadata": {},
   "outputs": [
    {
     "data": {
      "text/html": [
       "<div>\n",
       "<style scoped>\n",
       "    .dataframe tbody tr th:only-of-type {\n",
       "        vertical-align: middle;\n",
       "    }\n",
       "\n",
       "    .dataframe tbody tr th {\n",
       "        vertical-align: top;\n",
       "    }\n",
       "\n",
       "    .dataframe thead th {\n",
       "        text-align: right;\n",
       "    }\n",
       "</style>\n",
       "<table border=\"1\" class=\"dataframe\">\n",
       "  <thead>\n",
       "    <tr style=\"text-align: right;\">\n",
       "      <th></th>\n",
       "      <th>Unnamed: 0</th>\n",
       "      <th>Cites</th>\n",
       "      <th>Authors</th>\n",
       "      <th>Title</th>\n",
       "      <th>Year</th>\n",
       "      <th>Source</th>\n",
       "      <th>Publisher</th>\n",
       "      <th>ArticleURL</th>\n",
       "      <th>GSRank</th>\n",
       "      <th>QueryDate</th>\n",
       "      <th>...</th>\n",
       "      <th>accounts_per_year</th>\n",
       "      <th>accounts_rank</th>\n",
       "      <th>index_social_media</th>\n",
       "      <th>msm_per_year</th>\n",
       "      <th>news_index</th>\n",
       "      <th>policies_per_year</th>\n",
       "      <th>policies_index</th>\n",
       "      <th>patent_per_year</th>\n",
       "      <th>patent_index</th>\n",
       "      <th>overall_index</th>\n",
       "    </tr>\n",
       "  </thead>\n",
       "  <tbody>\n",
       "    <tr>\n",
       "      <th>7311</th>\n",
       "      <td>8003.0</td>\n",
       "      <td>936.0</td>\n",
       "      <td>CÃ©dric Feschotte, Ellen J. Pritham</td>\n",
       "      <td>DNA Transposons and the Evolution of Eukaryoti...</td>\n",
       "      <td>2007</td>\n",
       "      <td>Annual Review of Genetics</td>\n",
       "      <td>Annual Reviews</td>\n",
       "      <td>http://dx.doi.org/10.1146/annurev.genet.40.110...</td>\n",
       "      <td>878.0</td>\n",
       "      <td>7/25/24 13:48</td>\n",
       "      <td>...</td>\n",
       "      <td>3.294118</td>\n",
       "      <td>0.960973</td>\n",
       "      <td>0.936729</td>\n",
       "      <td>0.117647</td>\n",
       "      <td>0.969482</td>\n",
       "      <td>0.176471</td>\n",
       "      <td>0.995361</td>\n",
       "      <td>2.176471</td>\n",
       "      <td>0.998216</td>\n",
       "      <td>0.982357</td>\n",
       "    </tr>\n",
       "    <tr>\n",
       "      <th>8895</th>\n",
       "      <td>9708.0</td>\n",
       "      <td>2521.0</td>\n",
       "      <td>Mark S. Slaughter, Joseph G. Rogers, Carmelo A...</td>\n",
       "      <td>Advanced Heart Failure Treated with Continuous...</td>\n",
       "      <td>2009</td>\n",
       "      <td>New England Journal of Medicine</td>\n",
       "      <td>Massachusetts Medical Society</td>\n",
       "      <td>http://dx.doi.org/10.1056/nejmoa0909938</td>\n",
       "      <td>563.0</td>\n",
       "      <td>7/25/24 13:43</td>\n",
       "      <td>...</td>\n",
       "      <td>2.933333</td>\n",
       "      <td>0.956793</td>\n",
       "      <td>0.928919</td>\n",
       "      <td>0.800000</td>\n",
       "      <td>0.988172</td>\n",
       "      <td>0.266667</td>\n",
       "      <td>0.998171</td>\n",
       "      <td>0.866667</td>\n",
       "      <td>0.993933</td>\n",
       "      <td>0.984300</td>\n",
       "    </tr>\n",
       "    <tr>\n",
       "      <th>16024</th>\n",
       "      <td>17163.0</td>\n",
       "      <td>772.0</td>\n",
       "      <td>Marina Konopleva, Daniel A. Pollyea, Jalaja Po...</td>\n",
       "      <td>Efficacy and Biological Correlates of Response...</td>\n",
       "      <td>2016</td>\n",
       "      <td>Cancer Discovery</td>\n",
       "      <td>American Association for Cancer Research (AACR)</td>\n",
       "      <td>http://dx.doi.org/10.1158/2159-8290.cd-16-0313</td>\n",
       "      <td>968.0</td>\n",
       "      <td>7/25/24 11:45</td>\n",
       "      <td>...</td>\n",
       "      <td>7.250000</td>\n",
       "      <td>0.975955</td>\n",
       "      <td>0.970382</td>\n",
       "      <td>2.000000</td>\n",
       "      <td>0.993518</td>\n",
       "      <td>0.125000</td>\n",
       "      <td>0.990699</td>\n",
       "      <td>2.375000</td>\n",
       "      <td>0.998528</td>\n",
       "      <td>0.990564</td>\n",
       "    </tr>\n",
       "    <tr>\n",
       "      <th>16033</th>\n",
       "      <td>17172.0</td>\n",
       "      <td>281.0</td>\n",
       "      <td>Milind Javle, Tanios Bekaiiâ€Saab, Apurva Jai...</td>\n",
       "      <td>Biliary cancer: Utility of nextâ€generation s...</td>\n",
       "      <td>2016</td>\n",
       "      <td>Cancer</td>\n",
       "      <td>Wiley</td>\n",
       "      <td>http://dx.doi.org/10.1002/cncr.30254</td>\n",
       "      <td>977.0</td>\n",
       "      <td>7/25/24 11:45</td>\n",
       "      <td>...</td>\n",
       "      <td>12.875000</td>\n",
       "      <td>0.981609</td>\n",
       "      <td>0.973571</td>\n",
       "      <td>9.625000</td>\n",
       "      <td>0.997862</td>\n",
       "      <td>0.125000</td>\n",
       "      <td>0.990699</td>\n",
       "      <td>0.875000</td>\n",
       "      <td>0.994178</td>\n",
       "      <td>0.989533</td>\n",
       "    </tr>\n",
       "  </tbody>\n",
       "</table>\n",
       "<p>4 rows × 128 columns</p>\n",
       "</div>"
      ],
      "text/plain": [
       "       Unnamed: 0   Cites                                            Authors  \\\n",
       "7311       8003.0   936.0                CÃ©dric Feschotte, Ellen J. Pritham   \n",
       "8895       9708.0  2521.0  Mark S. Slaughter, Joseph G. Rogers, Carmelo A...   \n",
       "16024     17163.0   772.0  Marina Konopleva, Daniel A. Pollyea, Jalaja Po...   \n",
       "16033     17172.0   281.0  Milind Javle, Tanios Bekaiiâ€Saab, Apurva Jai...   \n",
       "\n",
       "                                                   Title  Year  \\\n",
       "7311   DNA Transposons and the Evolution of Eukaryoti...  2007   \n",
       "8895   Advanced Heart Failure Treated with Continuous...  2009   \n",
       "16024  Efficacy and Biological Correlates of Response...  2016   \n",
       "16033  Biliary cancer: Utility of nextâ€generation s...  2016   \n",
       "\n",
       "                                Source  \\\n",
       "7311         Annual Review of Genetics   \n",
       "8895   New England Journal of Medicine   \n",
       "16024                 Cancer Discovery   \n",
       "16033                           Cancer   \n",
       "\n",
       "                                             Publisher  \\\n",
       "7311                                    Annual Reviews   \n",
       "8895                     Massachusetts Medical Society   \n",
       "16024  American Association for Cancer Research (AACR)   \n",
       "16033                                            Wiley   \n",
       "\n",
       "                                              ArticleURL  GSRank  \\\n",
       "7311   http://dx.doi.org/10.1146/annurev.genet.40.110...   878.0   \n",
       "8895             http://dx.doi.org/10.1056/nejmoa0909938   563.0   \n",
       "16024     http://dx.doi.org/10.1158/2159-8290.cd-16-0313   968.0   \n",
       "16033               http://dx.doi.org/10.1002/cncr.30254   977.0   \n",
       "\n",
       "           QueryDate  ... accounts_per_year accounts_rank index_social_media  \\\n",
       "7311   7/25/24 13:48  ...          3.294118      0.960973           0.936729   \n",
       "8895   7/25/24 13:43  ...          2.933333      0.956793           0.928919   \n",
       "16024  7/25/24 11:45  ...          7.250000      0.975955           0.970382   \n",
       "16033  7/25/24 11:45  ...         12.875000      0.981609           0.973571   \n",
       "\n",
       "       msm_per_year  news_index  policies_per_year  policies_index  \\\n",
       "7311       0.117647    0.969482           0.176471        0.995361   \n",
       "8895       0.800000    0.988172           0.266667        0.998171   \n",
       "16024      2.000000    0.993518           0.125000        0.990699   \n",
       "16033      9.625000    0.997862           0.125000        0.990699   \n",
       "\n",
       "       patent_per_year  patent_index  overall_index  \n",
       "7311          2.176471      0.998216       0.982357  \n",
       "8895          0.866667      0.993933       0.984300  \n",
       "16024         2.375000      0.998528       0.990564  \n",
       "16033         0.875000      0.994178       0.989533  \n",
       "\n",
       "[4 rows x 128 columns]"
      ]
     },
     "execution_count": 46,
     "metadata": {},
     "output_type": "execute_result"
    }
   ],
   "source": [
    "merge[merge[\"overall_index\"]>0.98]"
   ]
  },
  {
   "cell_type": "code",
   "execution_count": 47,
   "id": "651bd4bb",
   "metadata": {},
   "outputs": [],
   "source": [
    "merge.to_csv(\"merged_data_with_indices.csv\")"
   ]
  }
 ],
 "metadata": {
  "kernelspec": {
   "display_name": "Python 3 (ipykernel)",
   "language": "python",
   "name": "python3"
  },
  "language_info": {
   "codemirror_mode": {
    "name": "ipython",
    "version": 3
   },
   "file_extension": ".py",
   "mimetype": "text/x-python",
   "name": "python",
   "nbconvert_exporter": "python",
   "pygments_lexer": "ipython3",
   "version": "3.11.5"
  }
 },
 "nbformat": 4,
 "nbformat_minor": 5
}
