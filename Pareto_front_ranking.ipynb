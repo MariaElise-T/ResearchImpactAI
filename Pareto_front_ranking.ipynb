{
 "cells": [
  {
   "cell_type": "code",
   "execution_count": 15,
   "id": "7c34b467-a7f5-4cd7-a271-03c54da3be5b",
   "metadata": {},
   "outputs": [],
   "source": [
    "import numpy as np\n",
    "from tqdm import tqdm\n",
    "\n",
    "def pareto_front_ranking(objectives, show_progress=True):\n",
    "    n = len(objectives)\n",
    "    ranks = np.full(n, np.inf)\n",
    "    domination_counts = np.zeros(n, dtype=int)\n",
    "    dominated_sets = [[] for _ in range(n)]\n",
    "    current_front = []\n",
    "\n",
    "    total_comparisons = n * (n - 1)\n",
    "    progress = tqdm(total=total_comparisons, desc=\"Pareto ranking\", disable=not show_progress)\n",
    "\n",
    "    for i in range(n):\n",
    "        for j in range(n):\n",
    "            if i == j:\n",
    "                continue\n",
    "            progress.update(1)\n",
    "            if np.all(objectives[i] >= objectives[j]) and np.any(objectives[i] > objectives[j]):\n",
    "                dominated_sets[i].append(j)\n",
    "            elif np.all(objectives[j] >= objectives[i]) and np.any(objectives[j] > objectives[i]):\n",
    "                domination_counts[i] += 1\n",
    "        if domination_counts[i] == 0:\n",
    "            ranks[i] = 0\n",
    "            current_front.append(i)\n",
    "\n",
    "    progress.close()\n",
    "\n",
    "    # Now rank the fronts (this part is usually much faster, so no need for a second bar)\n",
    "    front = 0\n",
    "    while current_front:\n",
    "        next_front = []\n",
    "        for i in current_front:\n",
    "            for j in dominated_sets[i]:\n",
    "                domination_counts[j] -= 1\n",
    "                if domination_counts[j] == 0:\n",
    "                    ranks[j] = front + 1\n",
    "                    next_front.append(j)\n",
    "        front += 1\n",
    "        current_front = next_front\n",
    "\n",
    "    return ranks.astype(int)"
   ]
  },
  {
   "cell_type": "code",
   "execution_count": 16,
   "id": "846ac6b2-c31e-45d6-acd8-0df6a3eb4810",
   "metadata": {},
   "outputs": [],
   "source": [
    "def rank_tabular_by_pareto(df):\n",
    "    # 1. Normalize for skewed distributions\n",
    "    qt = QuantileTransformer(output_distribution=\"normal\")\n",
    "    X_scaled = qt.fit_transform(df.values)\n",
    "\n",
    "    # 2. Run Pareto front ranking (assuming higher = better)\n",
    "    ranks = pareto_front_ranking(X_scaled)\n",
    "\n",
    "    return pd.DataFrame({\n",
    "        \"pareto_rank\": ranks\n",
    "    }, index=df.index)"
   ]
  },
  {
   "cell_type": "code",
   "execution_count": 17,
   "id": "2748bb9d-2f9d-4bff-b0b2-788a61c515cf",
   "metadata": {},
   "outputs": [
    {
     "name": "stderr",
     "output_type": "stream",
     "text": [
      "Pareto ranking: 100%|██████████| 624975000/624975000 [1:38:27<00:00, 105785.11it/s]\n"
     ]
    },
    {
     "name": "stdout",
     "output_type": "stream",
     "text": [
      "       pareto_rank\n",
      "0               53\n",
      "1                6\n",
      "2               16\n",
      "3               10\n",
      "4                6\n",
      "...            ...\n",
      "24995            4\n",
      "24996            5\n",
      "24997            5\n",
      "24998            1\n",
      "24999            6\n",
      "\n",
      "[25000 rows x 1 columns]\n"
     ]
    }
   ],
   "source": [
    "df = pd.read_csv(\"allsources_percentiles.csv\")\n",
    "\n",
    "ranked = rank_tabular_by_pareto(df.iloc[:,6:])\n",
    "print(ranked)"
   ]
  },
  {
   "cell_type": "code",
   "execution_count": 18,
   "id": "fa74d9ff-5483-4197-80de-8a64a931f7fd",
   "metadata": {},
   "outputs": [],
   "source": [
    "df_with_pareto = pd.concat([df, ranked], axis=1)"
   ]
  },
  {
   "cell_type": "code",
   "execution_count": 21,
   "id": "70395918-befb-4909-8173-197cad5452b0",
   "metadata": {},
   "outputs": [],
   "source": [
    "df_with_pareto.to_csv('df_pareto.csv', index=False)"
   ]
  },
  {
   "cell_type": "code",
   "execution_count": null,
   "id": "7eee0ca6-b5d2-4fa8-816a-7f713a6d7975",
   "metadata": {},
   "outputs": [],
   "source": []
  }
 ],
 "metadata": {
  "kernelspec": {
   "display_name": "Python [conda env:base] *",
   "language": "python",
   "name": "conda-base-py"
  },
  "language_info": {
   "codemirror_mode": {
    "name": "ipython",
    "version": 3
   },
   "file_extension": ".py",
   "mimetype": "text/x-python",
   "name": "python",
   "nbconvert_exporter": "python",
   "pygments_lexer": "ipython3",
   "version": "3.12.7"
  }
 },
 "nbformat": 4,
 "nbformat_minor": 5
}
