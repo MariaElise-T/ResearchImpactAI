{
 "cells": [
  {
   "cell_type": "code",
   "execution_count": 8,
   "id": "9061132a-82ae-4c57-9dc5-cda5dbb2833c",
   "metadata": {},
   "outputs": [],
   "source": [
    "import json\n",
    "import pandas as pd\n",
    "import re\n",
    "import ast"
   ]
  },
  {
   "cell_type": "markdown",
   "id": "383f3bfb",
   "metadata": {},
   "source": [
    "# PlumX Metrics"
   ]
  },
  {
   "cell_type": "code",
   "execution_count": 9,
   "id": "b3c0950b-a410-4c1c-aa8d-defa91fb30e4",
   "metadata": {},
   "outputs": [],
   "source": [
    "f = open('plumx_metrics_data.json')\n",
    "data_json = json.load(f)"
   ]
  },
  {
   "cell_type": "code",
   "execution_count": 10,
   "id": "f451818f-c556-4996-9394-1ec5e8d4d94e",
   "metadata": {},
   "outputs": [
    {
     "data": {
      "text/plain": [
       "24515"
      ]
     },
     "execution_count": 10,
     "metadata": {},
     "output_type": "execute_result"
    }
   ],
   "source": [
    "len(data_json)"
   ]
  },
  {
   "cell_type": "code",
   "execution_count": 11,
   "id": "e2ba6524-b084-4ff0-bf93-5eb43b60a4dd",
   "metadata": {},
   "outputs": [],
   "source": [
    "data_flat = pd.DataFrame()\n",
    "for item in data_json:\n",
    "    item_flat =  pd.json_normalize(item)\n",
    "    data_flat = pd.concat([data_flat, item_flat], axis=0, join='outer')"
   ]
  },
  {
   "cell_type": "code",
   "execution_count": 12,
   "id": "c1495b8c-1127-42c5-a7c3-6e8ec1078e2a",
   "metadata": {},
   "outputs": [
    {
     "data": {
      "text/plain": [
       "(24515, 20)"
      ]
     },
     "execution_count": 12,
     "metadata": {},
     "output_type": "execute_result"
    }
   ],
   "source": [
    "data_flat.shape"
   ]
  },
  {
   "cell_type": "code",
   "execution_count": 13,
   "id": "f7effc17-b9a3-407d-b4b4-02fba6a6f577",
   "metadata": {},
   "outputs": [],
   "source": [
    "data_flat.to_csv(\"plumx_metrics_tabular_uncleaned.csv\", index=False)"
   ]
  },
  {
   "cell_type": "markdown",
   "id": "fc1eb3ca",
   "metadata": {},
   "source": [
    "# Altmetrics"
   ]
  },
  {
   "cell_type": "code",
   "execution_count": 14,
   "id": "656e7e1d-3664-444d-bbf0-69c770806474",
   "metadata": {},
   "outputs": [],
   "source": [
    "f = open('altmetric_data.json')\n",
    "altmetrics_corpus = f.read()\n",
    "altmetrics_corpus = altmetrics_corpus.replace('\\\\', '')\n",
    "altmetrics_corpus = altmetrics_corpus.replace(',', ', ')\n",
    "altmetrics_corpus = altmetrics_corpus.replace(':', ': ')\n",
    "altmetrics_corpus = altmetrics_corpus[1:-1]"
   ]
  },
  {
   "cell_type": "code",
   "execution_count": 15,
   "id": "e4622ebd-dc69-48bf-9f7a-0b352d842f2e",
   "metadata": {},
   "outputs": [],
   "source": [
    "index = 0\n",
    "item_start_index = None\n",
    "item_end_index = None\n",
    "total = len(altmetrics_corpus)\n",
    "stack = 0\n",
    "item_indices = list()\n",
    "while(index < total):\n",
    "    if(altmetrics_corpus[index]=='{'):\n",
    "        if(stack == 0): # opening new item \n",
    "            item_start_index = index\n",
    "            stack+=1\n",
    "            index+=1 \n",
    "        else: # nested data within item \n",
    "            stack+=1\n",
    "            index+=1\n",
    "    elif(altmetrics_corpus[index]=='}'):\n",
    "        if(stack == 1): # closing item\n",
    "            item_end_index = index+1\n",
    "            item_indices.append((item_start_index, item_end_index))\n",
    "            stack-=1\n",
    "            index+=1\n",
    "        else: # closing nested data within item\n",
    "            stack-=1\n",
    "            index+=1\n",
    "    else:\n",
    "        index+=1   "
   ]
  },
  {
   "cell_type": "code",
   "execution_count": 16,
   "id": "8c426030",
   "metadata": {},
   "outputs": [
    {
     "data": {
      "text/plain": [
       "8416"
      ]
     },
     "execution_count": 16,
     "metadata": {},
     "output_type": "execute_result"
    }
   ],
   "source": [
    "len(item_indices) # should be 8416"
   ]
  },
  {
   "cell_type": "code",
   "execution_count": 17,
   "id": "160b67aa",
   "metadata": {},
   "outputs": [
    {
     "name": "stdout",
     "output_type": "stream",
     "text": [
      "Unable to parse start index  121750  end index  126290  .\n",
      "Unable to parse start index  184977  end index  188178  .\n",
      "Unable to parse start index  294557  end index  297759  .\n",
      "Unable to parse start index  324913  end index  329130  .\n",
      "Unable to parse start index  744458  end index  747393  .\n",
      "Unable to parse start index  1029325  end index  1033507  .\n",
      "Unable to parse start index  1126755  end index  1131615  .\n",
      "Unable to parse start index  1186233  end index  1190825  .\n",
      "Unable to parse start index  1310325  end index  1313887  .\n",
      "Unable to parse start index  1715926  end index  1719969  .\n",
      "Unable to parse start index  1757374  end index  1761067  .\n",
      "Unable to parse start index  1825899  end index  1829425  .\n",
      "Unable to parse start index  1841094  end index  1844491  .\n",
      "Unable to parse start index  2081659  end index  2090490  .\n",
      "Unable to parse start index  2770268  end index  2775615  .\n",
      "Unable to parse start index  3091781  end index  3094751  .\n",
      "Unable to parse start index  3313544  end index  3316715  .\n",
      "Unable to parse start index  3355347  end index  3358999  .\n",
      "Unable to parse start index  3819881  end index  3823920  .\n",
      "Unable to parse start index  3967660  end index  3969945  .\n",
      "Unable to parse start index  4017006  end index  4020119  .\n",
      "Unable to parse start index  4072618  end index  4075796  .\n",
      "Unable to parse start index  4417295  end index  4420704  .\n",
      "Unable to parse start index  4786893  end index  4789864  .\n",
      "Unable to parse start index  5340654  end index  5343891  .\n",
      "Unable to parse start index  5576695  end index  5580841  .\n",
      "Unable to parse start index  5689269  end index  5692016  .\n",
      "Unable to parse start index  5848344  end index  5852827  .\n",
      "Unable to parse start index  6349995  end index  6353999  .\n",
      "Unable to parse start index  6463755  end index  6467082  .\n",
      "Unable to parse start index  6582890  end index  6586431  .\n",
      "Unable to parse start index  6898451  end index  6901235  .\n",
      "Unable to parse start index  6940888  end index  6944628  .\n",
      "Unable to parse start index  7198992  end index  7203315  .\n",
      "Unable to parse start index  7213780  end index  7217814  .\n",
      "Unable to parse start index  7473418  end index  7476893  .\n",
      "Unable to parse start index  7490601  end index  7493527  .\n",
      "Unable to parse start index  7539373  end index  7543454  .\n",
      "Unable to parse start index  7615741  end index  7619696  .\n",
      "Unable to parse start index  7742141  end index  7745779  .\n",
      "Unable to parse start index  7760392  end index  7764030  .\n",
      "Unable to parse start index  7785060  end index  7789063  .\n",
      "Unable to parse start index  8170822  end index  8173838  .\n",
      "Unable to parse start index  8268364  end index  8272082  .\n",
      "Unable to parse start index  8363838  end index  8368490  .\n",
      "Unable to parse start index  8371766  end index  8374547  .\n",
      "Unable to parse start index  8617257  end index  8621156  .\n",
      "Unable to parse start index  8680920  end index  8683509  .\n",
      "Unable to parse start index  8784890  end index  8787759  .\n",
      "Unable to parse start index  8919266  end index  8922584  .\n",
      "Unable to parse start index  8944152  end index  8947829  .\n",
      "Unable to parse start index  8953193  end index  8956887  .\n",
      "Unable to parse start index  9138552  end index  9142114  .\n",
      "Unable to parse start index  9326894  end index  9330838  .\n",
      "Unable to parse start index  9371001  end index  9374289  .\n",
      "Unable to parse start index  9469077  end index  9472480  .\n",
      "Unable to parse start index  9499888  end index  9503249  .\n",
      "Unable to parse start index  9539706  end index  9542866  .\n",
      "Unable to parse start index  10070795  end index  10073896  .\n",
      "Unable to parse start index  10129741  end index  10132948  .\n",
      "Unable to parse start index  10192412  end index  10196242  .\n",
      "Unable to parse start index  10391946  end index  10395527  .\n",
      "Unable to parse start index  10395529  end index  10399110  .\n",
      "Unable to parse start index  10483554  end index  10486521  .\n",
      "Unable to parse start index  10522808  end index  10526379  .\n",
      "Unable to parse start index  10579250  end index  10582598  .\n",
      "Unable to parse start index  10638762  end index  10642343  .\n",
      "Unable to parse start index  10806740  end index  10810166  .\n",
      "Unable to parse start index  10838870  end index  10842439  .\n",
      "Unable to parse start index  11011595  end index  11015654  .\n",
      "Unable to parse start index  11087988  end index  11090922  .\n",
      "Unable to parse start index  11157874  end index  11161085  .\n",
      "Unable to parse start index  11331932  end index  11335340  .\n",
      "Unable to parse start index  11431182  end index  11434429  .\n",
      "Unable to parse start index  11436333  end index  11439734  .\n",
      "Unable to parse start index  11592078  end index  11596157  .\n",
      "Unable to parse start index  11600438  end index  11603468  .\n",
      "Unable to parse start index  11610119  end index  11613036  .\n",
      "Unable to parse start index  11758952  end index  11762365  .\n",
      "Unable to parse start index  11775151  end index  11777045  .\n",
      "Unable to parse start index  11869527  end index  11872475  .\n",
      "Unable to parse start index  11956788  end index  11961524  .\n",
      "Unable to parse start index  11968818  end index  11971939  .\n",
      "Unable to parse start index  12125619  end index  12129840  .\n",
      "Unable to parse start index  12133989  end index  12137253  .\n",
      "Unable to parse start index  12173778  end index  12177728  .\n",
      "Unable to parse start index  12214670  end index  12218258  .\n",
      "Unable to parse start index  12409633  end index  12413657  .\n",
      "Unable to parse start index  12415559  end index  12418749  .\n",
      "Unable to parse start index  12448649  end index  12452750  .\n",
      "Unable to parse start index  12497895  end index  12501015  .\n",
      "Unable to parse start index  12501017  end index  12505074  .\n",
      "Unable to parse start index  12650581  end index  12654367  .\n",
      "Unable to parse start index  12849253  end index  12851933  .\n",
      "Unable to parse start index  13031645  end index  13035015  .\n",
      "Unable to parse start index  13149477  end index  13153120  .\n",
      "Unable to parse start index  13169214  end index  13172012  .\n",
      "Unable to parse start index  13231334  end index  13234230  .\n",
      "Unable to parse start index  13240546  end index  13245447  .\n",
      "Unable to parse start index  13580989  end index  13585118  .\n",
      "Unable to parse start index  13743261  end index  13746956  .\n",
      "Unable to parse start index  13823547  end index  13826536  .\n",
      "Unable to parse start index  14023075  end index  14026670  .\n",
      "Unable to parse start index  14054148  end index  14057705  .\n",
      "Unable to parse start index  14086280  end index  14089734  .\n",
      "Unable to parse start index  14256980  end index  14260074  .\n",
      "Unable to parse start index  14664466  end index  14668062  .\n",
      "Unable to parse start index  15787299  end index  15788508  .\n",
      "Unable to parse start index  16662978  end index  16666408  .\n",
      "Unable to parse start index  18027456  end index  18031618  .\n",
      "Error count:  110\n"
     ]
    }
   ],
   "source": [
    "data_flat = pd.DataFrame()\n",
    "error_count = 0\n",
    "for item in item_indices:\n",
    "    text = altmetrics_corpus[item[0]:item[1]]\n",
    "    try:\n",
    "        item_dict = json.loads(text)\n",
    "        item_flat =  pd.json_normalize(item_dict)\n",
    "        data_flat = pd.concat([data_flat, item_flat], axis=0, join='outer')\n",
    "    except:\n",
    "        print(\"Unable to parse start index \", item[0], \" end index \", item[1], \" .\")\n",
    "        error_count +=1\n",
    "print(\"Error count: \", error_count)"
   ]
  },
  {
   "cell_type": "markdown",
   "id": "d9a5f0a6",
   "metadata": {},
   "source": [
    "We will ignore the parsing errors for now.  They appear to be caused by the use of quotation marks in the abstract and 110 (1.3%) samples are affected. This will be addressed in a later update."
   ]
  },
  {
   "cell_type": "code",
   "execution_count": 18,
   "id": "951f6876",
   "metadata": {},
   "outputs": [
    {
     "data": {
      "text/plain": [
       "(8306, 100)"
      ]
     },
     "execution_count": 18,
     "metadata": {},
     "output_type": "execute_result"
    }
   ],
   "source": [
    "data_flat.shape"
   ]
  },
  {
   "cell_type": "code",
   "execution_count": 19,
   "id": "50639ad5",
   "metadata": {},
   "outputs": [],
   "source": [
    "data_flat.to_csv(\"altmetrics_tabular_uncleaned.csv\", index=False)"
   ]
  }
 ],
 "metadata": {
  "kernelspec": {
   "display_name": "Python 3 (ipykernel)",
   "language": "python",
   "name": "python3"
  },
  "language_info": {
   "codemirror_mode": {
    "name": "ipython",
    "version": 3
   },
   "file_extension": ".py",
   "mimetype": "text/x-python",
   "name": "python",
   "nbconvert_exporter": "python",
   "pygments_lexer": "ipython3",
   "version": "3.11.5"
  }
 },
 "nbformat": 4,
 "nbformat_minor": 5
}
